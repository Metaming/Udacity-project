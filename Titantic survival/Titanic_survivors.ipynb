{
 "cells": [
  {
   "cell_type": "markdown",
   "metadata": {},
   "source": [
    "# Titanic survivors analysis\n",
    "Below is a brief analysis of the titanic survivor data on https://www.kaggle.com/c/titanic/data"
   ]
  },
  {
   "cell_type": "code",
   "execution_count": 1,
   "metadata": {},
   "outputs": [],
   "source": [
    "import numpy as np \n",
    "import scipy as sp \n",
    "import matplotlib as mpl\n",
    "import matplotlib.cm as cm \n",
    "import matplotlib.pyplot as plt\n",
    "import pandas as pd \n",
    "#from pandas.tools.plotting import scatter_matrix\n",
    "pd.set_option('display.width', 500)\n",
    "pd.set_option('display.max_columns', 100)\n",
    "pd.set_option('display.notebook_repr_html', True)\n",
    "import seaborn as sns\n",
    "sns.set(style=\"whitegrid\")\n",
    "import warnings\n",
    "warnings.filterwarnings('ignore')\n",
    "import string\n",
    "import math\n",
    "import sys\n",
    "from sklearn.preprocessing import LabelEncoder\n",
    "from sklearn.preprocessing import OneHotEncoder\n",
    "import sklearn\n",
    "from IPython.core.interactiveshell import InteractiveShell\n",
    "from IPython.display import display, HTML\n",
    "\n",
    "InteractiveShell.ast_node_interactivity = \"all\""
   ]
  },
  {
   "cell_type": "markdown",
   "metadata": {},
   "source": [
    "To analysis the data, the first step is to peek into overal information of the data:\n",
    "\n",
    "1. Show the first few rows of the data, get a sense of what the data is about\n",
    "\n",
    "2. What is the data type of each column\n",
    "\n",
    "3. If there is any missing value\n"
   ]
  },
  {
   "cell_type": "code",
   "execution_count": 2,
   "metadata": {},
   "outputs": [
    {
     "name": "stdout",
     "output_type": "stream",
     "text": [
      "train data\n"
     ]
    },
    {
     "data": {
      "text/html": [
       "<div>\n",
       "<style scoped>\n",
       "    .dataframe tbody tr th:only-of-type {\n",
       "        vertical-align: middle;\n",
       "    }\n",
       "\n",
       "    .dataframe tbody tr th {\n",
       "        vertical-align: top;\n",
       "    }\n",
       "\n",
       "    .dataframe thead th {\n",
       "        text-align: right;\n",
       "    }\n",
       "</style>\n",
       "<table border=\"1\" class=\"dataframe\">\n",
       "  <thead>\n",
       "    <tr style=\"text-align: right;\">\n",
       "      <th></th>\n",
       "      <th>PassengerId</th>\n",
       "      <th>Survived</th>\n",
       "      <th>Pclass</th>\n",
       "      <th>Name</th>\n",
       "      <th>Sex</th>\n",
       "      <th>Age</th>\n",
       "      <th>SibSp</th>\n",
       "      <th>Parch</th>\n",
       "      <th>Ticket</th>\n",
       "      <th>Fare</th>\n",
       "      <th>Cabin</th>\n",
       "      <th>Embarked</th>\n",
       "    </tr>\n",
       "  </thead>\n",
       "  <tbody>\n",
       "    <tr>\n",
       "      <th>0</th>\n",
       "      <td>1</td>\n",
       "      <td>0</td>\n",
       "      <td>3</td>\n",
       "      <td>Braund, Mr. Owen Harris</td>\n",
       "      <td>male</td>\n",
       "      <td>22.0</td>\n",
       "      <td>1</td>\n",
       "      <td>0</td>\n",
       "      <td>A/5 21171</td>\n",
       "      <td>7.2500</td>\n",
       "      <td>NaN</td>\n",
       "      <td>S</td>\n",
       "    </tr>\n",
       "    <tr>\n",
       "      <th>1</th>\n",
       "      <td>2</td>\n",
       "      <td>1</td>\n",
       "      <td>1</td>\n",
       "      <td>Cumings, Mrs. John Bradley (Florence Briggs Th...</td>\n",
       "      <td>female</td>\n",
       "      <td>38.0</td>\n",
       "      <td>1</td>\n",
       "      <td>0</td>\n",
       "      <td>PC 17599</td>\n",
       "      <td>71.2833</td>\n",
       "      <td>C85</td>\n",
       "      <td>C</td>\n",
       "    </tr>\n",
       "    <tr>\n",
       "      <th>2</th>\n",
       "      <td>3</td>\n",
       "      <td>1</td>\n",
       "      <td>3</td>\n",
       "      <td>Heikkinen, Miss. Laina</td>\n",
       "      <td>female</td>\n",
       "      <td>26.0</td>\n",
       "      <td>0</td>\n",
       "      <td>0</td>\n",
       "      <td>STON/O2. 3101282</td>\n",
       "      <td>7.9250</td>\n",
       "      <td>NaN</td>\n",
       "      <td>S</td>\n",
       "    </tr>\n",
       "    <tr>\n",
       "      <th>3</th>\n",
       "      <td>4</td>\n",
       "      <td>1</td>\n",
       "      <td>1</td>\n",
       "      <td>Futrelle, Mrs. Jacques Heath (Lily May Peel)</td>\n",
       "      <td>female</td>\n",
       "      <td>35.0</td>\n",
       "      <td>1</td>\n",
       "      <td>0</td>\n",
       "      <td>113803</td>\n",
       "      <td>53.1000</td>\n",
       "      <td>C123</td>\n",
       "      <td>S</td>\n",
       "    </tr>\n",
       "    <tr>\n",
       "      <th>4</th>\n",
       "      <td>5</td>\n",
       "      <td>0</td>\n",
       "      <td>3</td>\n",
       "      <td>Allen, Mr. William Henry</td>\n",
       "      <td>male</td>\n",
       "      <td>35.0</td>\n",
       "      <td>0</td>\n",
       "      <td>0</td>\n",
       "      <td>373450</td>\n",
       "      <td>8.0500</td>\n",
       "      <td>NaN</td>\n",
       "      <td>S</td>\n",
       "    </tr>\n",
       "  </tbody>\n",
       "</table>\n",
       "</div>"
      ],
      "text/plain": [
       "   PassengerId  Survived  Pclass                                               Name     Sex   Age  SibSp  Parch            Ticket     Fare Cabin Embarked\n",
       "0            1         0       3                            Braund, Mr. Owen Harris    male  22.0      1      0         A/5 21171   7.2500   NaN        S\n",
       "1            2         1       1  Cumings, Mrs. John Bradley (Florence Briggs Th...  female  38.0      1      0          PC 17599  71.2833   C85        C\n",
       "2            3         1       3                             Heikkinen, Miss. Laina  female  26.0      0      0  STON/O2. 3101282   7.9250   NaN        S\n",
       "3            4         1       1       Futrelle, Mrs. Jacques Heath (Lily May Peel)  female  35.0      1      0            113803  53.1000  C123        S\n",
       "4            5         0       3                           Allen, Mr. William Henry    male  35.0      0      0            373450   8.0500   NaN        S"
      ]
     },
     "execution_count": 2,
     "metadata": {},
     "output_type": "execute_result"
    },
    {
     "name": "stdout",
     "output_type": "stream",
     "text": [
      "test data\n"
     ]
    },
    {
     "data": {
      "text/html": [
       "<div>\n",
       "<style scoped>\n",
       "    .dataframe tbody tr th:only-of-type {\n",
       "        vertical-align: middle;\n",
       "    }\n",
       "\n",
       "    .dataframe tbody tr th {\n",
       "        vertical-align: top;\n",
       "    }\n",
       "\n",
       "    .dataframe thead th {\n",
       "        text-align: right;\n",
       "    }\n",
       "</style>\n",
       "<table border=\"1\" class=\"dataframe\">\n",
       "  <thead>\n",
       "    <tr style=\"text-align: right;\">\n",
       "      <th></th>\n",
       "      <th>PassengerId</th>\n",
       "      <th>Pclass</th>\n",
       "      <th>Name</th>\n",
       "      <th>Sex</th>\n",
       "      <th>Age</th>\n",
       "      <th>SibSp</th>\n",
       "      <th>Parch</th>\n",
       "      <th>Ticket</th>\n",
       "      <th>Fare</th>\n",
       "      <th>Cabin</th>\n",
       "      <th>Embarked</th>\n",
       "    </tr>\n",
       "  </thead>\n",
       "  <tbody>\n",
       "    <tr>\n",
       "      <th>0</th>\n",
       "      <td>892</td>\n",
       "      <td>3</td>\n",
       "      <td>Kelly, Mr. James</td>\n",
       "      <td>male</td>\n",
       "      <td>34.5</td>\n",
       "      <td>0</td>\n",
       "      <td>0</td>\n",
       "      <td>330911</td>\n",
       "      <td>7.8292</td>\n",
       "      <td>NaN</td>\n",
       "      <td>Q</td>\n",
       "    </tr>\n",
       "    <tr>\n",
       "      <th>1</th>\n",
       "      <td>893</td>\n",
       "      <td>3</td>\n",
       "      <td>Wilkes, Mrs. James (Ellen Needs)</td>\n",
       "      <td>female</td>\n",
       "      <td>47.0</td>\n",
       "      <td>1</td>\n",
       "      <td>0</td>\n",
       "      <td>363272</td>\n",
       "      <td>7.0000</td>\n",
       "      <td>NaN</td>\n",
       "      <td>S</td>\n",
       "    </tr>\n",
       "    <tr>\n",
       "      <th>2</th>\n",
       "      <td>894</td>\n",
       "      <td>2</td>\n",
       "      <td>Myles, Mr. Thomas Francis</td>\n",
       "      <td>male</td>\n",
       "      <td>62.0</td>\n",
       "      <td>0</td>\n",
       "      <td>0</td>\n",
       "      <td>240276</td>\n",
       "      <td>9.6875</td>\n",
       "      <td>NaN</td>\n",
       "      <td>Q</td>\n",
       "    </tr>\n",
       "    <tr>\n",
       "      <th>3</th>\n",
       "      <td>895</td>\n",
       "      <td>3</td>\n",
       "      <td>Wirz, Mr. Albert</td>\n",
       "      <td>male</td>\n",
       "      <td>27.0</td>\n",
       "      <td>0</td>\n",
       "      <td>0</td>\n",
       "      <td>315154</td>\n",
       "      <td>8.6625</td>\n",
       "      <td>NaN</td>\n",
       "      <td>S</td>\n",
       "    </tr>\n",
       "    <tr>\n",
       "      <th>4</th>\n",
       "      <td>896</td>\n",
       "      <td>3</td>\n",
       "      <td>Hirvonen, Mrs. Alexander (Helga E Lindqvist)</td>\n",
       "      <td>female</td>\n",
       "      <td>22.0</td>\n",
       "      <td>1</td>\n",
       "      <td>1</td>\n",
       "      <td>3101298</td>\n",
       "      <td>12.2875</td>\n",
       "      <td>NaN</td>\n",
       "      <td>S</td>\n",
       "    </tr>\n",
       "  </tbody>\n",
       "</table>\n",
       "</div>"
      ],
      "text/plain": [
       "   PassengerId  Pclass                                          Name     Sex   Age  SibSp  Parch   Ticket     Fare Cabin Embarked\n",
       "0          892       3                              Kelly, Mr. James    male  34.5      0      0   330911   7.8292   NaN        Q\n",
       "1          893       3              Wilkes, Mrs. James (Ellen Needs)  female  47.0      1      0   363272   7.0000   NaN        S\n",
       "2          894       2                     Myles, Mr. Thomas Francis    male  62.0      0      0   240276   9.6875   NaN        Q\n",
       "3          895       3                              Wirz, Mr. Albert    male  27.0      0      0   315154   8.6625   NaN        S\n",
       "4          896       3  Hirvonen, Mrs. Alexander (Helga E Lindqvist)  female  22.0      1      1  3101298  12.2875   NaN        S"
      ]
     },
     "execution_count": 2,
     "metadata": {},
     "output_type": "execute_result"
    },
    {
     "name": "stdout",
     "output_type": "stream",
     "text": [
      "________________________________________\n",
      "\n",
      "General information of training set:\n",
      "\n",
      "<class 'pandas.core.frame.DataFrame'>\n",
      "RangeIndex: 891 entries, 0 to 890\n",
      "Data columns (total 12 columns):\n",
      "PassengerId    891 non-null int64\n",
      "Survived       891 non-null int64\n",
      "Pclass         891 non-null int64\n",
      "Name           891 non-null object\n",
      "Sex            891 non-null object\n",
      "Age            714 non-null float64\n",
      "SibSp          891 non-null int64\n",
      "Parch          891 non-null int64\n",
      "Ticket         891 non-null object\n",
      "Fare           891 non-null float64\n",
      "Cabin          204 non-null object\n",
      "Embarked       889 non-null object\n",
      "dtypes: float64(2), int64(5), object(5)\n",
      "memory usage: 83.6+ KB\n",
      "________________________________________\n",
      "\n",
      "General information of test set:\n",
      "\n",
      "<class 'pandas.core.frame.DataFrame'>\n",
      "RangeIndex: 418 entries, 0 to 417\n",
      "Data columns (total 11 columns):\n",
      "PassengerId    418 non-null int64\n",
      "Pclass         418 non-null int64\n",
      "Name           418 non-null object\n",
      "Sex            418 non-null object\n",
      "Age            332 non-null float64\n",
      "SibSp          418 non-null int64\n",
      "Parch          418 non-null int64\n",
      "Ticket         418 non-null object\n",
      "Fare           417 non-null float64\n",
      "Cabin          91 non-null object\n",
      "Embarked       418 non-null object\n",
      "dtypes: float64(2), int64(4), object(5)\n",
      "memory usage: 36.0+ KB\n",
      "________________________________________\n",
      "\n",
      "Number of nulls in training sets:\n",
      " PassengerId      0\n",
      "Survived         0\n",
      "Pclass           0\n",
      "Name             0\n",
      "Sex              0\n",
      "Age            177\n",
      "SibSp            0\n",
      "Parch            0\n",
      "Ticket           0\n",
      "Fare             0\n",
      "Cabin          687\n",
      "Embarked         2\n",
      "dtype: int64\n",
      "________________________________________\n",
      "\n",
      "Number of nulls in test sets:\n",
      " PassengerId      0\n",
      "Pclass           0\n",
      "Name             0\n",
      "Sex              0\n",
      "Age             86\n",
      "SibSp            0\n",
      "Parch            0\n",
      "Ticket           0\n",
      "Fare             1\n",
      "Cabin          327\n",
      "Embarked         0\n",
      "dtype: int64\n"
     ]
    }
   ],
   "source": [
    "data_train = pd.read_csv('titanic_train.csv')\n",
    "data_test = pd.read_csv('titanic_test.csv')\n",
    "print('train data')\n",
    "data_train.head()\n",
    "print('test data')\n",
    "data_test.head()\n",
    "\n",
    "print('_'*40)\n",
    "print('\\nGeneral information of training set:\\n')\n",
    "data_train.info()\n",
    "print('_'*40)\n",
    "print('\\nGeneral information of test set:\\n')\n",
    "data_test.info()\n",
    "\n",
    "print('_'*40)\n",
    "print('\\nNumber of nulls in training sets:\\n', data_train.isnull().sum())\n",
    "print('_'*40)\n",
    "print('\\nNumber of nulls in test sets:\\n', data_test.isnull().sum())"
   ]
  },
  {
   "cell_type": "markdown",
   "metadata": {},
   "source": [
    " ### Basic statistic of each column\n"
   ]
  },
  {
   "cell_type": "code",
   "execution_count": 3,
   "metadata": {},
   "outputs": [
    {
     "data": {
      "text/html": [
       "<div>\n",
       "<style scoped>\n",
       "    .dataframe tbody tr th:only-of-type {\n",
       "        vertical-align: middle;\n",
       "    }\n",
       "\n",
       "    .dataframe tbody tr th {\n",
       "        vertical-align: top;\n",
       "    }\n",
       "\n",
       "    .dataframe thead th {\n",
       "        text-align: right;\n",
       "    }\n",
       "</style>\n",
       "<table border=\"1\" class=\"dataframe\">\n",
       "  <thead>\n",
       "    <tr style=\"text-align: right;\">\n",
       "      <th></th>\n",
       "      <th>PassengerId</th>\n",
       "      <th>Survived</th>\n",
       "      <th>Pclass</th>\n",
       "      <th>Name</th>\n",
       "      <th>Sex</th>\n",
       "      <th>Age</th>\n",
       "      <th>SibSp</th>\n",
       "      <th>Parch</th>\n",
       "      <th>Ticket</th>\n",
       "      <th>Fare</th>\n",
       "      <th>Cabin</th>\n",
       "      <th>Embarked</th>\n",
       "    </tr>\n",
       "  </thead>\n",
       "  <tbody>\n",
       "    <tr>\n",
       "      <th>count</th>\n",
       "      <td>891.000000</td>\n",
       "      <td>891.000000</td>\n",
       "      <td>891.000000</td>\n",
       "      <td>891</td>\n",
       "      <td>891</td>\n",
       "      <td>714.000000</td>\n",
       "      <td>891.000000</td>\n",
       "      <td>891.000000</td>\n",
       "      <td>891</td>\n",
       "      <td>891.000000</td>\n",
       "      <td>204</td>\n",
       "      <td>889</td>\n",
       "    </tr>\n",
       "    <tr>\n",
       "      <th>unique</th>\n",
       "      <td>NaN</td>\n",
       "      <td>NaN</td>\n",
       "      <td>NaN</td>\n",
       "      <td>891</td>\n",
       "      <td>2</td>\n",
       "      <td>NaN</td>\n",
       "      <td>NaN</td>\n",
       "      <td>NaN</td>\n",
       "      <td>681</td>\n",
       "      <td>NaN</td>\n",
       "      <td>147</td>\n",
       "      <td>3</td>\n",
       "    </tr>\n",
       "    <tr>\n",
       "      <th>top</th>\n",
       "      <td>NaN</td>\n",
       "      <td>NaN</td>\n",
       "      <td>NaN</td>\n",
       "      <td>Lefebre, Master. Henry Forbes</td>\n",
       "      <td>male</td>\n",
       "      <td>NaN</td>\n",
       "      <td>NaN</td>\n",
       "      <td>NaN</td>\n",
       "      <td>1601</td>\n",
       "      <td>NaN</td>\n",
       "      <td>B96 B98</td>\n",
       "      <td>S</td>\n",
       "    </tr>\n",
       "    <tr>\n",
       "      <th>freq</th>\n",
       "      <td>NaN</td>\n",
       "      <td>NaN</td>\n",
       "      <td>NaN</td>\n",
       "      <td>1</td>\n",
       "      <td>577</td>\n",
       "      <td>NaN</td>\n",
       "      <td>NaN</td>\n",
       "      <td>NaN</td>\n",
       "      <td>7</td>\n",
       "      <td>NaN</td>\n",
       "      <td>4</td>\n",
       "      <td>644</td>\n",
       "    </tr>\n",
       "    <tr>\n",
       "      <th>mean</th>\n",
       "      <td>446.000000</td>\n",
       "      <td>0.383838</td>\n",
       "      <td>2.308642</td>\n",
       "      <td>NaN</td>\n",
       "      <td>NaN</td>\n",
       "      <td>29.699118</td>\n",
       "      <td>0.523008</td>\n",
       "      <td>0.381594</td>\n",
       "      <td>NaN</td>\n",
       "      <td>32.204208</td>\n",
       "      <td>NaN</td>\n",
       "      <td>NaN</td>\n",
       "    </tr>\n",
       "    <tr>\n",
       "      <th>std</th>\n",
       "      <td>257.353842</td>\n",
       "      <td>0.486592</td>\n",
       "      <td>0.836071</td>\n",
       "      <td>NaN</td>\n",
       "      <td>NaN</td>\n",
       "      <td>14.526497</td>\n",
       "      <td>1.102743</td>\n",
       "      <td>0.806057</td>\n",
       "      <td>NaN</td>\n",
       "      <td>49.693429</td>\n",
       "      <td>NaN</td>\n",
       "      <td>NaN</td>\n",
       "    </tr>\n",
       "    <tr>\n",
       "      <th>min</th>\n",
       "      <td>1.000000</td>\n",
       "      <td>0.000000</td>\n",
       "      <td>1.000000</td>\n",
       "      <td>NaN</td>\n",
       "      <td>NaN</td>\n",
       "      <td>0.420000</td>\n",
       "      <td>0.000000</td>\n",
       "      <td>0.000000</td>\n",
       "      <td>NaN</td>\n",
       "      <td>0.000000</td>\n",
       "      <td>NaN</td>\n",
       "      <td>NaN</td>\n",
       "    </tr>\n",
       "    <tr>\n",
       "      <th>25%</th>\n",
       "      <td>223.500000</td>\n",
       "      <td>0.000000</td>\n",
       "      <td>2.000000</td>\n",
       "      <td>NaN</td>\n",
       "      <td>NaN</td>\n",
       "      <td>20.125000</td>\n",
       "      <td>0.000000</td>\n",
       "      <td>0.000000</td>\n",
       "      <td>NaN</td>\n",
       "      <td>7.910400</td>\n",
       "      <td>NaN</td>\n",
       "      <td>NaN</td>\n",
       "    </tr>\n",
       "    <tr>\n",
       "      <th>50%</th>\n",
       "      <td>446.000000</td>\n",
       "      <td>0.000000</td>\n",
       "      <td>3.000000</td>\n",
       "      <td>NaN</td>\n",
       "      <td>NaN</td>\n",
       "      <td>28.000000</td>\n",
       "      <td>0.000000</td>\n",
       "      <td>0.000000</td>\n",
       "      <td>NaN</td>\n",
       "      <td>14.454200</td>\n",
       "      <td>NaN</td>\n",
       "      <td>NaN</td>\n",
       "    </tr>\n",
       "    <tr>\n",
       "      <th>75%</th>\n",
       "      <td>668.500000</td>\n",
       "      <td>1.000000</td>\n",
       "      <td>3.000000</td>\n",
       "      <td>NaN</td>\n",
       "      <td>NaN</td>\n",
       "      <td>38.000000</td>\n",
       "      <td>1.000000</td>\n",
       "      <td>0.000000</td>\n",
       "      <td>NaN</td>\n",
       "      <td>31.000000</td>\n",
       "      <td>NaN</td>\n",
       "      <td>NaN</td>\n",
       "    </tr>\n",
       "    <tr>\n",
       "      <th>max</th>\n",
       "      <td>891.000000</td>\n",
       "      <td>1.000000</td>\n",
       "      <td>3.000000</td>\n",
       "      <td>NaN</td>\n",
       "      <td>NaN</td>\n",
       "      <td>80.000000</td>\n",
       "      <td>8.000000</td>\n",
       "      <td>6.000000</td>\n",
       "      <td>NaN</td>\n",
       "      <td>512.329200</td>\n",
       "      <td>NaN</td>\n",
       "      <td>NaN</td>\n",
       "    </tr>\n",
       "  </tbody>\n",
       "</table>\n",
       "</div>"
      ],
      "text/plain": [
       "        PassengerId    Survived      Pclass                           Name   Sex         Age       SibSp       Parch Ticket        Fare    Cabin Embarked\n",
       "count    891.000000  891.000000  891.000000                            891   891  714.000000  891.000000  891.000000    891  891.000000      204      889\n",
       "unique          NaN         NaN         NaN                            891     2         NaN         NaN         NaN    681         NaN      147        3\n",
       "top             NaN         NaN         NaN  Lefebre, Master. Henry Forbes  male         NaN         NaN         NaN   1601         NaN  B96 B98        S\n",
       "freq            NaN         NaN         NaN                              1   577         NaN         NaN         NaN      7         NaN        4      644\n",
       "mean     446.000000    0.383838    2.308642                            NaN   NaN   29.699118    0.523008    0.381594    NaN   32.204208      NaN      NaN\n",
       "std      257.353842    0.486592    0.836071                            NaN   NaN   14.526497    1.102743    0.806057    NaN   49.693429      NaN      NaN\n",
       "min        1.000000    0.000000    1.000000                            NaN   NaN    0.420000    0.000000    0.000000    NaN    0.000000      NaN      NaN\n",
       "25%      223.500000    0.000000    2.000000                            NaN   NaN   20.125000    0.000000    0.000000    NaN    7.910400      NaN      NaN\n",
       "50%      446.000000    0.000000    3.000000                            NaN   NaN   28.000000    0.000000    0.000000    NaN   14.454200      NaN      NaN\n",
       "75%      668.500000    1.000000    3.000000                            NaN   NaN   38.000000    1.000000    0.000000    NaN   31.000000      NaN      NaN\n",
       "max      891.000000    1.000000    3.000000                            NaN   NaN   80.000000    8.000000    6.000000    NaN  512.329200      NaN      NaN"
      ]
     },
     "execution_count": 3,
     "metadata": {},
     "output_type": "execute_result"
    }
   ],
   "source": [
    "data_train.describe(include='all')  # use \"include='all' \" to take into account the nonnumerical data"
   ]
  },
  {
   "cell_type": "markdown",
   "metadata": {},
   "source": [
    "## Overall statistic picture of Titanic passenger"
   ]
  },
  {
   "cell_type": "markdown",
   "metadata": {},
   "source": [
    "1. Survivor number and percentage"
   ]
  },
  {
   "cell_type": "code",
   "execution_count": 4,
   "metadata": {
    "scrolled": true
   },
   "outputs": [
    {
     "data": {
      "text/plain": [
       "<Figure size 432x288 with 0 Axes>"
      ]
     },
     "execution_count": 4,
     "metadata": {},
     "output_type": "execute_result"
    },
    {
     "data": {
      "text/plain": [
       "<BarContainer object of 1 artists>"
      ]
     },
     "execution_count": 4,
     "metadata": {},
     "output_type": "execute_result"
    },
    {
     "data": {
      "text/plain": [
       "<BarContainer object of 1 artists>"
      ]
     },
     "execution_count": 4,
     "metadata": {},
     "output_type": "execute_result"
    },
    {
     "data": {
      "text/plain": [
       "([<matplotlib.axis.XTick at 0xbf063c8>, <matplotlib.axis.XTick at 0xbeeec18>],\n",
       " <a list of 2 Text xticklabel objects>)"
      ]
     },
     "execution_count": 4,
     "metadata": {},
     "output_type": "execute_result"
    },
    {
     "data": {
      "text/plain": [
       "<matplotlib.legend.Legend at 0xbdbff98>"
      ]
     },
     "execution_count": 4,
     "metadata": {},
     "output_type": "execute_result"
    },
    {
     "data": {
      "text/plain": [
       "Text(0, 0.5, 'Number of people')"
      ]
     },
     "execution_count": 4,
     "metadata": {},
     "output_type": "execute_result"
    },
    {
     "data": {
      "text/plain": [
       "Text(0.5, 1.0, 'Counts of Survival')"
      ]
     },
     "execution_count": 4,
     "metadata": {},
     "output_type": "execute_result"
    },
    {
     "data": {
      "text/plain": [
       "Text(0, 274.5, '549 (62%)')"
      ]
     },
     "execution_count": 4,
     "metadata": {},
     "output_type": "execute_result"
    },
    {
     "data": {
      "text/plain": [
       "Text(1, 171.0, '342 (38%)')"
      ]
     },
     "execution_count": 4,
     "metadata": {},
     "output_type": "execute_result"
    },
    {
     "data": {
      "image/png": "[encoded data removed]",
      "text/plain": [
       "<Figure size 432x288 with 1 Axes>"
      ]
     },
     "metadata": {
      "needs_background": "light"
     },
     "output_type": "display_data"
    }
   ],
   "source": [
    "survive = data_train['Survived'].value_counts()\n",
    "\n",
    "survive_percentage = survive/survive.sum()\n",
    "\n",
    "\n",
    "x = data_train['Survived'].value_counts().index \n",
    "\n",
    "width = 0.5\n",
    "plt.figure()\n",
    "plt.bar (x[0], survive[0], width, label = 'Not survived' )\n",
    "plt.bar (x[1], survive[1], width, label = 'Survived' )\n",
    "plt.xticks(x,('Not survived','Survived'))\n",
    "plt.legend(['Not Survived', 'Survived'])\n",
    "plt.ylabel('Number of people')\n",
    "\n",
    "plt.title('Counts of Survival')\n",
    "\n",
    "for nx in x:\n",
    "    plt.annotate('{} ({:.0%})'.format(survive[nx],survive_percentage[nx]),xy = (x[nx],survive[nx]/2),ha='center', va='bottom')\n",
    "\n",
    "plt.show()\n",
    "\n"
   ]
  },
  {
   "cell_type": "markdown",
   "metadata": {
    "slideshow": {
     "slide_type": "slide"
    }
   },
   "source": [
    "2. Gender and Pclass"
   ]
  },
  {
   "cell_type": "code",
   "execution_count": 5,
   "metadata": {},
   "outputs": [],
   "source": [
    "\n",
    "column = 'Sex'\n",
    "\n",
    "def cat_distr (column):\n",
    "    \n",
    "    data = data_train[column].value_counts()\n",
    "    x = data_train[column].value_counts().index\n",
    "    perc = data/data.sum()\n",
    "    return [data,x,perc]\n",
    "\n",
    "[data,x,perc] = cat_distr(column)\n",
    "\n",
    "#data=float(data)\n",
    "#(train[column]=='male')*1-0.5\n",
    "#data\n",
    "#x[0]\n",
    "xnum = np.arange(len(x))\n",
    "#xnum[0]\n",
    "#perc\n"
   ]
  },
  {
   "cell_type": "code",
   "execution_count": 6,
   "metadata": {
    "scrolled": true
   },
   "outputs": [
    {
     "data": {
      "text/plain": [
       "<Figure size 432x288 with 0 Axes>"
      ]
     },
     "execution_count": 6,
     "metadata": {},
     "output_type": "execute_result"
    },
    {
     "data": {
      "text/plain": [
       "<BarContainer object of 1 artists>"
      ]
     },
     "execution_count": 6,
     "metadata": {},
     "output_type": "execute_result"
    },
    {
     "data": {
      "text/plain": [
       "Text(0, 288.5, '577 (65%)')"
      ]
     },
     "execution_count": 6,
     "metadata": {},
     "output_type": "execute_result"
    },
    {
     "data": {
      "text/plain": [
       "<BarContainer object of 1 artists>"
      ]
     },
     "execution_count": 6,
     "metadata": {},
     "output_type": "execute_result"
    },
    {
     "data": {
      "text/plain": [
       "Text(1, 157.0, '314 (35%)')"
      ]
     },
     "execution_count": 6,
     "metadata": {},
     "output_type": "execute_result"
    },
    {
     "data": {
      "text/plain": [
       "<matplotlib.legend.Legend at 0xbe8f5f8>"
      ]
     },
     "execution_count": 6,
     "metadata": {},
     "output_type": "execute_result"
    },
    {
     "data": {
      "text/plain": [
       "([<matplotlib.axis.XTick at 0xbfa2240>, <matplotlib.axis.XTick at 0xbf47940>],\n",
       " <a list of 2 Text xticklabel objects>)"
      ]
     },
     "execution_count": 6,
     "metadata": {},
     "output_type": "execute_result"
    },
    {
     "data": {
      "text/plain": [
       "Text(0, 0.5, 'Number of people')"
      ]
     },
     "execution_count": 6,
     "metadata": {},
     "output_type": "execute_result"
    },
    {
     "data": {
      "text/plain": [
       "Text(0.5, 1.0, 'Distribution of Sex')"
      ]
     },
     "execution_count": 6,
     "metadata": {},
     "output_type": "execute_result"
    },
    {
     "data": {
      "image/png": "[encoded data removed]",
      "text/plain": [
       "<Figure size 432x288 with 1 Axes>"
      ]
     },
     "metadata": {
      "needs_background": "light"
     },
     "output_type": "display_data"
    }
   ],
   "source": [
    "# draw a bar graph\n",
    "\n",
    "width = 0.5\n",
    "plt.figure()\n",
    "\n",
    "for nx in xnum: \n",
    "    #xnum[nx]\n",
    "    #x[nx]\n",
    "    plt.bar (xnum[nx], data[nx], width, label = column +':'+ str(x[nx]) )\n",
    "    \n",
    "    plt.annotate('{} ({:.0%})'.format(data[nx],perc[nx]),xy = (xnum[nx],data[nx]/2),ha='center', va='bottom')\n",
    "\n",
    "plt.legend(x)\n",
    "plt.xticks(xnum,x)\n",
    "plt.ylabel('Number of people')\n",
    "plt.title('Distribution of '+ column)\n",
    "\n",
    "plt.show()"
   ]
  },
  {
   "cell_type": "code",
   "execution_count": 7,
   "metadata": {},
   "outputs": [],
   "source": [
    "column = 'Pclass'\n",
    "[data,x,perc] = cat_distr(column)\n",
    "\n",
    "#data # pay attention, data and perc are pd.series, need to use .iloc to access element by the position\n",
    "#perc\n",
    "\n",
    "#data.iloc[0]\n",
    "#perc.iloc[0]\n",
    "\n",
    "#x  # but x and xnum are numpy array, and use [location] is sufficient\n",
    "xnum = np.arange(len(x))\n",
    "\n",
    "#x[0]\n",
    "#xnum[0]\n"
   ]
  },
  {
   "cell_type": "code",
   "execution_count": 8,
   "metadata": {
    "scrolled": true
   },
   "outputs": [
    {
     "data": {
      "text/plain": [
       "<Figure size 432x288 with 0 Axes>"
      ]
     },
     "execution_count": 8,
     "metadata": {},
     "output_type": "execute_result"
    },
    {
     "data": {
      "text/plain": [
       "<BarContainer object of 1 artists>"
      ]
     },
     "execution_count": 8,
     "metadata": {},
     "output_type": "execute_result"
    },
    {
     "data": {
      "text/plain": [
       "Text(0, 245.5, '491 (55%)')"
      ]
     },
     "execution_count": 8,
     "metadata": {},
     "output_type": "execute_result"
    },
    {
     "data": {
      "text/plain": [
       "<BarContainer object of 1 artists>"
      ]
     },
     "execution_count": 8,
     "metadata": {},
     "output_type": "execute_result"
    },
    {
     "data": {
      "text/plain": [
       "Text(1, 108.0, '216 (24%)')"
      ]
     },
     "execution_count": 8,
     "metadata": {},
     "output_type": "execute_result"
    },
    {
     "data": {
      "text/plain": [
       "<BarContainer object of 1 artists>"
      ]
     },
     "execution_count": 8,
     "metadata": {},
     "output_type": "execute_result"
    },
    {
     "data": {
      "text/plain": [
       "Text(2, 92.0, '184 (21%)')"
      ]
     },
     "execution_count": 8,
     "metadata": {},
     "output_type": "execute_result"
    },
    {
     "data": {
      "text/plain": [
       "<matplotlib.legend.Legend at 0xbea2588>"
      ]
     },
     "execution_count": 8,
     "metadata": {},
     "output_type": "execute_result"
    },
    {
     "data": {
      "text/plain": [
       "([<matplotlib.axis.XTick at 0xbff3dd8>,\n",
       "  <matplotlib.axis.XTick at 0xbff30f0>,\n",
       "  <matplotlib.axis.XTick at 0xbff33c8>],\n",
       " <a list of 3 Text xticklabel objects>)"
      ]
     },
     "execution_count": 8,
     "metadata": {},
     "output_type": "execute_result"
    },
    {
     "data": {
      "text/plain": [
       "Text(0, 0.5, 'Number of people')"
      ]
     },
     "execution_count": 8,
     "metadata": {},
     "output_type": "execute_result"
    },
    {
     "data": {
      "text/plain": [
       "Text(0.5, 1.0, 'Distribution of Pclass')"
      ]
     },
     "execution_count": 8,
     "metadata": {},
     "output_type": "execute_result"
    },
    {
     "data": {
      "image/png": "[encoded data removed]",
      "text/plain": [
       "<Figure size 432x288 with 1 Axes>"
      ]
     },
     "metadata": {
      "needs_background": "light"
     },
     "output_type": "display_data"
    }
   ],
   "source": [
    "width = 0.5\n",
    "plt.figure()\n",
    "\n",
    "#data[1]\n",
    "\n",
    "for nx in xnum: \n",
    "    #str(x[nx])  \n",
    "    #xnum[nx]    \n",
    "    #data.iloc[nx]    \n",
    "    plt.bar (xnum[nx], data.iloc[nx], width, label = column +':'+str(x[nx]) )\n",
    "    plt.annotate('{} ({:.0%})'.format(data.iloc[nx],perc.iloc[nx]),xy = (xnum[nx],data.iloc[nx]/2),ha='center', va='bottom')\n",
    "\n",
    "    \n",
    "plt.legend(x)\n",
    "plt.xticks(xnum,x)\n",
    "plt.ylabel('Number of people')\n",
    "plt.title('Distribution of '+ column)\n",
    "\n",
    "plt.show()"
   ]
  },
  {
   "cell_type": "markdown",
   "metadata": {},
   "source": [
    "3. Age group & Fair group"
   ]
  },
  {
   "cell_type": "code",
   "execution_count": 9,
   "metadata": {
    "scrolled": true
   },
   "outputs": [
    {
     "data": {
      "text/plain": [
       "(array([40., 14., 15., 31., 79., 98., 85., 84., 73., 45., 35., 35., 29.,\n",
       "        16., 13., 11.,  4.,  5.,  1.,  1.]),\n",
       " array([ 0.42 ,  4.399,  8.378, 12.357, 16.336, 20.315, 24.294, 28.273,\n",
       "        32.252, 36.231, 40.21 , 44.189, 48.168, 52.147, 56.126, 60.105,\n",
       "        64.084, 68.063, 72.042, 76.021, 80.   ]),\n",
       " <a list of 20 Patch objects>)"
      ]
     },
     "execution_count": 9,
     "metadata": {},
     "output_type": "execute_result"
    },
    {
     "data": {
      "text/plain": [
       "Text(0.5, 0, 'Age')"
      ]
     },
     "execution_count": 9,
     "metadata": {},
     "output_type": "execute_result"
    },
    {
     "data": {
      "text/plain": [
       "Text(0, 0.5, 'Number of People')"
      ]
     },
     "execution_count": 9,
     "metadata": {},
     "output_type": "execute_result"
    },
    {
     "data": {
      "text/plain": [
       "Text(0.5, 1.0, 'Age Distribution')"
      ]
     },
     "execution_count": 9,
     "metadata": {},
     "output_type": "execute_result"
    },
    {
     "data": {
      "text/plain": [
       "(0, 110)"
      ]
     },
     "execution_count": 9,
     "metadata": {},
     "output_type": "execute_result"
    },
    {
     "data": {
      "text/plain": [
       "(array([562., 170.,  67.,  39.,  15.,  16.,   2.,   0.,   9.,   2.,   6.,\n",
       "          0.,   0.,   0.,   0.,   0.,   0.,   0.,   0.,   3.]),\n",
       " array([  0.     ,  25.61646,  51.23292,  76.84938, 102.46584, 128.0823 ,\n",
       "        153.69876, 179.31522, 204.93168, 230.54814, 256.1646 , 281.78106,\n",
       "        307.39752, 333.01398, 358.63044, 384.2469 , 409.86336, 435.47982,\n",
       "        461.09628, 486.71274, 512.3292 ]),\n",
       " <a list of 20 Patch objects>)"
      ]
     },
     "execution_count": 9,
     "metadata": {},
     "output_type": "execute_result"
    },
    {
     "data": {
      "text/plain": [
       "Text(0.5, 0, 'Fare')"
      ]
     },
     "execution_count": 9,
     "metadata": {},
     "output_type": "execute_result"
    },
    {
     "data": {
      "text/plain": [
       "Text(0, 0.5, 'Number of People')"
      ]
     },
     "execution_count": 9,
     "metadata": {},
     "output_type": "execute_result"
    },
    {
     "data": {
      "text/plain": [
       "Text(0.5, 1.0, 'Fare Distribution')"
      ]
     },
     "execution_count": 9,
     "metadata": {},
     "output_type": "execute_result"
    },
    {
     "data": {
      "text/plain": [
       "(0, 600)"
      ]
     },
     "execution_count": 9,
     "metadata": {},
     "output_type": "execute_result"
    },
    {
     "data": {
      "image/png": "[encoded data removed]",
      "text/plain": [
       "<Figure size 576x288 with 2 Axes>"
      ]
     },
     "metadata": {
      "needs_background": "light"
     },
     "output_type": "display_data"
    }
   ],
   "source": [
    "known_age = data_train['Age'].notnull()\n",
    "age=data_train['Age']\n",
    "known_age_group = age[known_age]\n",
    "#known_age_group\n",
    "\n",
    "fare = data_train['Fare']\n",
    "#fare\n",
    "\n",
    "# draw a histograme for the age distribution\n",
    "n_bins = 20\n",
    "fig,plots = plt.subplots (1,2,sharey = False, tight_layout = True,figsize=(8, 4)) # don't miss fig,\n",
    "plots[0].hist(known_age_group,bins = n_bins)\n",
    "plots[0].set_xlabel('Age')\n",
    "plots[0].set_ylabel('Number of People')\n",
    "plots[0].set_title('Age Distribution')\n",
    "plots[0].set_ylim(0, 110)\n",
    "\n",
    "plots[1].hist(fare,bins = n_bins)\n",
    "plots[1].set_xlabel('Fare')\n",
    "plots[1].set_ylabel('Number of People')\n",
    "plots[1].set_title('Fare Distribution')\n",
    "plots[1].set_ylim(0, 600)\n",
    "\n"
   ]
  },
  {
   "cell_type": "markdown",
   "metadata": {},
   "source": [
    "# Correlation matrix of different parameters"
   ]
  },
  {
   "cell_type": "code",
   "execution_count": 10,
   "metadata": {
    "scrolled": false
   },
   "outputs": [
    {
     "data": {
      "text/plain": [
       "<matplotlib.axes._subplots.AxesSubplot at 0xc752e10>"
      ]
     },
     "execution_count": 10,
     "metadata": {},
     "output_type": "execute_result"
    },
    {
     "data": {
      "text/plain": [
       "(7, 0)"
      ]
     },
     "execution_count": 10,
     "metadata": {},
     "output_type": "execute_result"
    },
    {
     "data": {
      "text/plain": [
       "Text(0.5, 1.0, 'Correlation (all passengers)')"
      ]
     },
     "execution_count": 10,
     "metadata": {},
     "output_type": "execute_result"
    },
    {
     "data": {
      "image/png": "[encoded data removed]",
      "text/plain": [
       "<Figure size 576x504 with 2 Axes>"
      ]
     },
     "metadata": {
      "needs_background": "light"
     },
     "output_type": "display_data"
    },
    {
     "data": {
      "text/plain": [
       "<matplotlib.axes._subplots.AxesSubplot at 0xcb58f98>"
      ]
     },
     "execution_count": 10,
     "metadata": {},
     "output_type": "execute_result"
    },
    {
     "data": {
      "text/plain": [
       "(6, 0)"
      ]
     },
     "execution_count": 10,
     "metadata": {},
     "output_type": "execute_result"
    },
    {
     "data": {
      "text/plain": [
       "Text(0.5, 1.0, 'Correlation (male passengers)')"
      ]
     },
     "execution_count": 10,
     "metadata": {},
     "output_type": "execute_result"
    },
    {
     "data": {
      "image/png": "[encoded data removed]",
      "text/plain": [
       "<Figure size 576x504 with 2 Axes>"
      ]
     },
     "metadata": {
      "needs_background": "light"
     },
     "output_type": "display_data"
    },
    {
     "data": {
      "text/plain": [
       "<matplotlib.axes._subplots.AxesSubplot at 0xcb61ef0>"
      ]
     },
     "execution_count": 10,
     "metadata": {},
     "output_type": "execute_result"
    },
    {
     "data": {
      "text/plain": [
       "(6, 0)"
      ]
     },
     "execution_count": 10,
     "metadata": {},
     "output_type": "execute_result"
    },
    {
     "data": {
      "text/plain": [
       "Text(0.5, 1.0, 'Correlation (female passengers)')"
      ]
     },
     "execution_count": 10,
     "metadata": {},
     "output_type": "execute_result"
    },
    {
     "data": {
      "image/png": "[encoded data removed]",
      "text/plain": [
       "<Figure size 576x504 with 2 Axes>"
      ]
     },
     "metadata": {
      "needs_background": "light"
     },
     "output_type": "display_data"
    }
   ],
   "source": [
    "column = 'Sex'\n",
    "data_train['sex_num']=(data_train[column]=='male')*1-0.5 # convert gender to numeric, \"male\"=0.5, \"female\" = -0.5\n",
    "\n",
    "corr_matrix = data_train[['Survived', 'Pclass','sex_num','Age','SibSp','Parch','Fare']].corr()\n",
    "#corr_matrix\n",
    "\n",
    "corr_matrix_male = data_train[['Survived', 'Pclass','Age','SibSp','Parch','Fare']][(data_train['sex_num'] == 0.5)].corr()\n",
    "#corr_matrix_male\n",
    "\n",
    "corr_matrix_female = data_train[['Survived', 'Pclass','Age','SibSp','Parch','Fare']][(data_train['sex_num'] == -0.5)].corr()\n",
    "#corr_matrix_female\n",
    "\n",
    "\n",
    "\n",
    "fig,plots = plt.subplots(figsize=(8, 7))\n",
    "sns.heatmap(corr_matrix, vmin=-0.7, vmax=0.7 ,annot=True, linewidths=0.5, fmt='.2f',cmap=\"PiYG\")\n",
    "plots.set_ylim(7, 0)\n",
    "plt.title('Correlation (all passengers)')\n",
    "plt.show()\n",
    "\n",
    "fig,plots = plt.subplots(figsize=(8, 7))\n",
    "sns.heatmap(corr_matrix_male, vmin=-0.7, vmax=0.7 ,annot=True, linewidths=0.5, fmt='.2f',cmap=\"PiYG\")\n",
    "plots.set_ylim(6, 0)\n",
    "plt.title('Correlation (male passengers)')\n",
    "plt.show()\n",
    "\n",
    "fig,plots = plt.subplots(figsize=(8, 7))\n",
    "sns.heatmap(corr_matrix_female, vmin=-0.7, vmax=0.7 ,annot=True, linewidths=0.5, fmt='.2f',cmap=\"PiYG\")\n",
    "plots.set_ylim(6, 0)\n",
    "plt.title('Correlation (female passengers)')\n",
    "plt.show()\n",
    "\n"
   ]
  },
  {
   "cell_type": "markdown",
   "metadata": {},
   "source": [
    "It is clear that there are several factors that are obviously correleated:\n",
    "1. Survival vs Gender: negative correlation, it means females have higher survival rate\n",
    "2. Survival vs Pclass: negative correlation, it means first/second class passengers have higher survival rate\n",
    "3. Survival vs Fare: positive correlation, it means higher fare tickets have higher survival rate\n",
    "\n",
    "Male and female passengers show very different correlation matrix."
   ]
  },
  {
   "cell_type": "markdown",
   "metadata": {},
   "source": [
    "\n"
   ]
  },
  {
   "cell_type": "markdown",
   "metadata": {},
   "source": [
    "### 1. Survival vs Gender"
   ]
  },
  {
   "cell_type": "code",
   "execution_count": 11,
   "metadata": {
    "scrolled": true
   },
   "outputs": [
    {
     "data": {
      "text/plain": [
       "Survived  Sex   \n",
       "0         male      468\n",
       "          female     81\n",
       "1         female    233\n",
       "          male      109\n",
       "Name: Sex, dtype: int64"
      ]
     },
     "execution_count": 11,
     "metadata": {},
     "output_type": "execute_result"
    },
    {
     "data": {
      "text/plain": [
       "Int64Index([0, 1], dtype='int64')"
      ]
     },
     "execution_count": 11,
     "metadata": {},
     "output_type": "execute_result"
    },
    {
     "data": {
      "text/plain": [
       "array([0.81109185, 0.18890815])"
      ]
     },
     "execution_count": 11,
     "metadata": {},
     "output_type": "execute_result"
    },
    {
     "data": {
      "text/plain": [
       "array([0.25796178, 0.74203822])"
      ]
     },
     "execution_count": 11,
     "metadata": {},
     "output_type": "execute_result"
    }
   ],
   "source": [
    "\n",
    "sv_sex = data_train.groupby(['Survived'])['Sex']\n",
    "sv_sex_num = sv_sex.value_counts()\n",
    "xnum = data_train['Survived'].value_counts().index\n",
    "\n",
    "sv_sex_num\n",
    "\n",
    "xnum\n",
    "\n",
    "# percentage of male and female survived/not survived\n",
    "sv_male_perc = [sv_sex_num[0,'male'],sv_sex_num[1,'male']]/(sv_sex_num[0,'male']+sv_sex_num[1,'male'])\n",
    "sv_female_perc = [sv_sex_num[0,'female'],sv_sex_num[1,'female']]/(sv_sex_num[0,'female']+sv_sex_num[1,'female'])\n",
    "sv_male_perc\n",
    "sv_female_perc\n"
   ]
  },
  {
   "cell_type": "code",
   "execution_count": 12,
   "metadata": {
    "scrolled": true
   },
   "outputs": [
    {
     "data": {
      "text/plain": [
       "<BarContainer object of 1 artists>"
      ]
     },
     "execution_count": 12,
     "metadata": {},
     "output_type": "execute_result"
    },
    {
     "data": {
      "text/plain": [
       "Text(0, 234.0, '468\\n81% of males')"
      ]
     },
     "execution_count": 12,
     "metadata": {},
     "output_type": "execute_result"
    },
    {
     "data": {
      "text/plain": [
       "<BarContainer object of 1 artists>"
      ]
     },
     "execution_count": 12,
     "metadata": {},
     "output_type": "execute_result"
    },
    {
     "data": {
      "text/plain": [
       "Text(0, 508.5, '81\\n26% of females')"
      ]
     },
     "execution_count": 12,
     "metadata": {},
     "output_type": "execute_result"
    },
    {
     "data": {
      "text/plain": [
       "<BarContainer object of 1 artists>"
      ]
     },
     "execution_count": 12,
     "metadata": {},
     "output_type": "execute_result"
    },
    {
     "data": {
      "text/plain": [
       "Text(1, 54.5, '109\\n19% of males')"
      ]
     },
     "execution_count": 12,
     "metadata": {},
     "output_type": "execute_result"
    },
    {
     "data": {
      "text/plain": [
       "<BarContainer object of 1 artists>"
      ]
     },
     "execution_count": 12,
     "metadata": {},
     "output_type": "execute_result"
    },
    {
     "data": {
      "text/plain": [
       "Text(1, 225.5, '233\\n74% of females')"
      ]
     },
     "execution_count": 12,
     "metadata": {},
     "output_type": "execute_result"
    },
    {
     "data": {
      "text/plain": [
       "<matplotlib.legend.Legend at 0xcaffac8>"
      ]
     },
     "execution_count": 12,
     "metadata": {},
     "output_type": "execute_result"
    },
    {
     "data": {
      "text/plain": [
       "([<matplotlib.axis.XTick at 0xcd395f8>, <matplotlib.axis.XTick at 0xcd0bf28>],\n",
       " <a list of 2 Text xticklabel objects>)"
      ]
     },
     "execution_count": 12,
     "metadata": {},
     "output_type": "execute_result"
    },
    {
     "data": {
      "text/plain": [
       "Text(0, 0.5, 'Number of people')"
      ]
     },
     "execution_count": 12,
     "metadata": {},
     "output_type": "execute_result"
    },
    {
     "data": {
      "text/plain": [
       "Text(0.5, 1.0, 'Distribution of Sex')"
      ]
     },
     "execution_count": 12,
     "metadata": {},
     "output_type": "execute_result"
    },
    {
     "data": {
      "image/png": "[encoded data removed]",
      "text/plain": [
       "<Figure size 432x288 with 1 Axes>"
      ]
     },
     "metadata": {
      "needs_background": "light"
     },
     "output_type": "display_data"
    }
   ],
   "source": [
    "# draw a bar chart\n",
    "\n",
    "width=0.5\n",
    "\n",
    "sv_male = sv_sex_num [1,'male']\n",
    "nsv_male = sv_sex_num [0,'male']\n",
    "sv_female = sv_sex_num [1,'female']\n",
    "nsv_female = sv_sex_num [0,'female']\n",
    "\n",
    "for nx in xnum:\n",
    "    \n",
    "    \n",
    "    plt.bar (xnum[nx], sv_sex_num [nx,'male'], width,color = [0.1,0.5,0.5])    \n",
    "    plt.annotate('{}\\n{:.0%} of males'.format(sv_sex_num [nx,'male'],sv_male_perc[nx]),xy = (xnum[nx],sv_sex_num [nx,'male']/2),ha='center', va='center')\n",
    "\n",
    "    plt.bar (xnum[nx], sv_sex_num [nx,'female'], width, bottom=sv_sex_num [nx,'male'],color = [1,0.7,0.7])    \n",
    "    plt.annotate('{}\\n{:.0%} of females'.format(sv_sex_num [nx,'female'],sv_female_perc[nx]),xy = (xnum[nx],sv_sex_num [nx,'male']+sv_sex_num [nx,'female']/2),ha='center', va='center')\n",
    "\n",
    "    \n",
    "plt.legend(['male','female'])\n",
    "plt.xticks(xnum,['Not survived', 'Survived'])\n",
    "plt.ylabel('Number of people')\n",
    "plt.title('Distribution of '+ column)\n",
    "\n",
    "plt.show()"
   ]
  },
  {
   "cell_type": "markdown",
   "metadata": {},
   "source": [
    "We can also define a function to calculate the survival rate of each group"
   ]
  },
  {
   "cell_type": "code",
   "execution_count": 13,
   "metadata": {},
   "outputs": [
    {
     "data": {
      "text/plain": [
       "Sex\n",
       "female    0.742038\n",
       "male      0.188908\n",
       "Name: Survived, dtype: float64"
      ]
     },
     "execution_count": 13,
     "metadata": {},
     "output_type": "execute_result"
    },
    {
     "data": {
      "text/plain": [
       "array([0, 1, 2])"
      ]
     },
     "execution_count": 13,
     "metadata": {},
     "output_type": "execute_result"
    },
    {
     "data": {
      "text/plain": [
       "0.6296296296296297"
      ]
     },
     "execution_count": 13,
     "metadata": {},
     "output_type": "execute_result"
    }
   ],
   "source": [
    "def sv_rate (data):\n",
    "    per = data.sum()/data.count()\n",
    "    return per\n",
    "\n",
    "sv_sex = data_train.groupby('Sex')['Survived']\n",
    "sv_rate_sex = sv_sex.apply(sv_rate)\n",
    "x_sex = np.arange(sv_rate_sex.count())\n",
    "\n",
    "sv_rate_sex\n",
    "\n",
    "sv_Pclass = data_train.groupby('Pclass')['Survived']\n",
    "sv_rate_Pclass = sv_Pclass.apply(sv_rate)\n",
    "x_Pclass = np.arange(sv_rate_Pclass.count())\n",
    "\n",
    "x_Pclass\n",
    "sv_rate_Pclass.iloc[0]\n",
    "\n"
   ]
  },
  {
   "cell_type": "markdown",
   "metadata": {},
   "source": [
    "Draw bar chart"
   ]
  },
  {
   "cell_type": "code",
   "execution_count": 14,
   "metadata": {
    "scrolled": true
   },
   "outputs": [
    {
     "data": {
      "text/plain": [
       "<Figure size 432x288 with 0 Axes>"
      ]
     },
     "execution_count": 14,
     "metadata": {},
     "output_type": "execute_result"
    },
    {
     "data": {
      "text/plain": [
       "(<Figure size 576x288 with 2 Axes>,\n",
       " array([<matplotlib.axes._subplots.AxesSubplot object at 0x000000000CC17748>,\n",
       "        <matplotlib.axes._subplots.AxesSubplot object at 0x000000000CC4F4A8>],\n",
       "       dtype=object))"
      ]
     },
     "execution_count": 14,
     "metadata": {},
     "output_type": "execute_result"
    },
    {
     "data": {
      "text/plain": [
       "<matplotlib.axes._subplots.AxesSubplot at 0xcc22b00>"
      ]
     },
     "execution_count": 14,
     "metadata": {},
     "output_type": "execute_result"
    },
    {
     "data": {
      "text/plain": [
       "<BarContainer object of 1 artists>"
      ]
     },
     "execution_count": 14,
     "metadata": {},
     "output_type": "execute_result"
    },
    {
     "data": {
      "text/plain": [
       "Text(0, 0.37101910828025475, '74%')"
      ]
     },
     "execution_count": 14,
     "metadata": {},
     "output_type": "execute_result"
    },
    {
     "data": {
      "text/plain": [
       "<BarContainer object of 1 artists>"
      ]
     },
     "execution_count": 14,
     "metadata": {},
     "output_type": "execute_result"
    },
    {
     "data": {
      "text/plain": [
       "Text(1, 0.09445407279029462, '19%')"
      ]
     },
     "execution_count": 14,
     "metadata": {},
     "output_type": "execute_result"
    },
    {
     "data": {
      "text/plain": [
       "<matplotlib.legend.Legend at 0xcc85780>"
      ]
     },
     "execution_count": 14,
     "metadata": {},
     "output_type": "execute_result"
    },
    {
     "data": {
      "text/plain": [
       "([<matplotlib.axis.XTick at 0xcc868d0>, <matplotlib.axis.XTick at 0xcc86198>],\n",
       " <a list of 2 Text xticklabel objects>)"
      ]
     },
     "execution_count": 14,
     "metadata": {},
     "output_type": "execute_result"
    },
    {
     "data": {
      "text/plain": [
       "Text(0.5, 0, 'Passenger Gender')"
      ]
     },
     "execution_count": 14,
     "metadata": {},
     "output_type": "execute_result"
    },
    {
     "data": {
      "text/plain": [
       "Text(0, 0.5, 'Survival Rate')"
      ]
     },
     "execution_count": 14,
     "metadata": {},
     "output_type": "execute_result"
    },
    {
     "data": {
      "text/plain": [
       "Text(0.5, 1.0, 'Survival Rate vs Gender')"
      ]
     },
     "execution_count": 14,
     "metadata": {},
     "output_type": "execute_result"
    },
    {
     "data": {
      "text/plain": [
       "<matplotlib.axes._subplots.AxesSubplot at 0xcc910f0>"
      ]
     },
     "execution_count": 14,
     "metadata": {},
     "output_type": "execute_result"
    },
    {
     "data": {
      "text/plain": [
       "<BarContainer object of 1 artists>"
      ]
     },
     "execution_count": 14,
     "metadata": {},
     "output_type": "execute_result"
    },
    {
     "data": {
      "text/plain": [
       "Text(0, 0.3148148148148148, '63%')"
      ]
     },
     "execution_count": 14,
     "metadata": {},
     "output_type": "execute_result"
    },
    {
     "data": {
      "text/plain": [
       "<BarContainer object of 1 artists>"
      ]
     },
     "execution_count": 14,
     "metadata": {},
     "output_type": "execute_result"
    },
    {
     "data": {
      "text/plain": [
       "Text(1, 0.23641304347826086, '47%')"
      ]
     },
     "execution_count": 14,
     "metadata": {},
     "output_type": "execute_result"
    },
    {
     "data": {
      "text/plain": [
       "<BarContainer object of 1 artists>"
      ]
     },
     "execution_count": 14,
     "metadata": {},
     "output_type": "execute_result"
    },
    {
     "data": {
      "text/plain": [
       "Text(2, 0.12118126272912423, '24%')"
      ]
     },
     "execution_count": 14,
     "metadata": {},
     "output_type": "execute_result"
    },
    {
     "data": {
      "text/plain": [
       "<matplotlib.legend.Legend at 0xcc85e48>"
      ]
     },
     "execution_count": 14,
     "metadata": {},
     "output_type": "execute_result"
    },
    {
     "data": {
      "text/plain": [
       "([<matplotlib.axis.XTick at 0xccc05c0>,\n",
       "  <matplotlib.axis.XTick at 0xccbce10>,\n",
       "  <matplotlib.axis.XTick at 0xccbcb38>],\n",
       " <a list of 3 Text xticklabel objects>)"
      ]
     },
     "execution_count": 14,
     "metadata": {},
     "output_type": "execute_result"
    },
    {
     "data": {
      "text/plain": [
       "Text(0.5, 0, 'Passenger Class')"
      ]
     },
     "execution_count": 14,
     "metadata": {},
     "output_type": "execute_result"
    },
    {
     "data": {
      "text/plain": [
       "Text(0, 0.5, 'Survival Rate')"
      ]
     },
     "execution_count": 14,
     "metadata": {},
     "output_type": "execute_result"
    },
    {
     "data": {
      "text/plain": [
       "Text(0.5, 1.0, 'Survival Rate vs Passenger Class')"
      ]
     },
     "execution_count": 14,
     "metadata": {},
     "output_type": "execute_result"
    },
    {
     "data": {
      "text/plain": [
       "<Figure size 432x288 with 0 Axes>"
      ]
     },
     "metadata": {},
     "output_type": "display_data"
    },
    {
     "data": {
      "image/png": "[encoded data removed]",
      "text/plain": [
       "<Figure size 576x288 with 2 Axes>"
      ]
     },
     "metadata": {
      "needs_background": "light"
     },
     "output_type": "display_data"
    }
   ],
   "source": [
    "\n",
    "\n",
    "plt.figure()\n",
    "plt.subplots (1,2,sharey = False, tight_layout = True,figsize=(8, 4)) # don't miss fig,\n",
    "\n",
    "width = 0.75\n",
    "\n",
    "plt.subplot(121)\n",
    "\n",
    "for nx in x_sex:    \n",
    "    plt.bar (x_sex[nx], sv_rate_sex[nx], width)   \n",
    "    plt.annotate('{:.0%}'.format(sv_rate_sex [nx]),xy = (x_sex[nx],sv_rate_sex[nx]/2),ha='center', va='center')\n",
    "\n",
    "plt.legend(['female','male'])\n",
    "plt.xticks(x_sex,['female', 'male'])\n",
    "plt.xlabel('Passenger Gender')\n",
    "plt.ylabel('Survival Rate')\n",
    "plt.title('Survival Rate vs Gender')\n",
    "\n",
    "\n",
    "plt.subplot(122)\n",
    "\n",
    "for nx in x_Pclass:\n",
    "    #x_Pclass[nx]\n",
    "    #sv_Pclass_rate.iloc[nx]\n",
    "    \n",
    "    plt.bar(x_Pclass[nx], sv_rate_Pclass.iloc[nx], width)   \n",
    "    plt.annotate('{:.0%}'.format(sv_rate_Pclass.iloc[nx]),xy = (x_Pclass[nx],sv_rate_Pclass.iloc[nx]/2),ha='center', va='center')\n",
    "    \n",
    "plt.legend(['1st','2nd','3rd'])\n",
    "plt.xticks(x_Pclass,['1st','2nd','3rd'])\n",
    "plt.xlabel('Passenger Class')\n",
    "plt.ylabel('Survival Rate')\n",
    "plt.title('Survival Rate vs Passenger Class')\n"
   ]
  },
  {
   "cell_type": "code",
   "execution_count": 15,
   "metadata": {},
   "outputs": [
    {
     "data": {
      "image/png": "[encoded data removed]",
      "text/plain": [
       "<Figure size 576x288 with 2 Axes>"
      ]
     },
     "metadata": {
      "needs_background": "light"
     },
     "output_type": "display_data"
    }
   ],
   "source": [
    "# Another way to plot is to use seaborn\n",
    "\n",
    "plt.figure\n",
    "\n",
    "plt.subplots(1,2,sharey = False, tight_layout = True,figsize=(8, 4))\n",
    "\n",
    "plt.subplot(121)\n",
    "sns.barplot(x = \"sex_num\", \n",
    "            y = \"Survived\", \n",
    "            estimator = np.mean,   # another trick to calculate the survival rate, is to use mean() function, since survived = 1, nonsurvived = 0\n",
    "            data=data_train, \n",
    "            #ax = pclass_bar,\n",
    "            capsize = 0,\n",
    "            errwidth = 0,\n",
    "            linewidth = 2 )\n",
    "plt.title(\"Survival Rate vs Gender\",fontsize = 15)\n",
    "plt.xlabel(\"Passenger Gender\", fontsize = 12);\n",
    "plt.ylabel(\"Survival rate\", fontsize = 12);\n",
    "labels = ['Female', 'Male']\n",
    "#val = sorted(train.Pclass.unique())\n",
    "val = [0,1] ## this is just a temporary trick to get the label right. \n",
    "plt.xticks(val,labels);\n",
    "\n",
    "plt.subplot(122)\n",
    "sns.barplot(x = \"Pclass\", \n",
    "            y = \"Survived\", \n",
    "            estimator = np.mean,   # another trick to calculate the survival rate, is to use mean() function, since survived = 1, nonsurvived = 0\n",
    "            data=data_train, \n",
    "            #ax = pclass_bar,\n",
    "            capsize = 0,\n",
    "            errwidth = 0,\n",
    "            linewidth = 2 )\n",
    "plt.title(\"Survival Rate vs Passenger Class\",fontsize = 15)\n",
    "plt.xlabel(\"Passenger Class\", fontsize = 12);\n",
    "plt.ylabel(\"Survival rate\", fontsize = 12);\n",
    "labels = ['1st', '2nd', '3rd']\n",
    "#val = sorted(train.Pclass.unique())\n",
    "val = [0,1,2] ## this is just a temporary trick to get the label right. \n",
    "plt.xticks(val,labels);"
   ]
  },
  {
   "cell_type": "markdown",
   "metadata": {},
   "source": [
    "### 2. Survivale rate vs Sex and Pclass"
   ]
  },
  {
   "cell_type": "code",
   "execution_count": 16,
   "metadata": {
    "scrolled": true
   },
   "outputs": [
    {
     "data": {
      "text/plain": [
       "<Figure size 432x288 with 0 Axes>"
      ]
     },
     "execution_count": 16,
     "metadata": {},
     "output_type": "execute_result"
    },
    {
     "data": {
      "text/plain": [
       "<BarContainer object of 1 artists>"
      ]
     },
     "execution_count": 16,
     "metadata": {},
     "output_type": "execute_result"
    },
    {
     "data": {
      "text/plain": [
       "Text(-0.15, 0.48404255319148937, '97%')"
      ]
     },
     "execution_count": 16,
     "metadata": {},
     "output_type": "execute_result"
    },
    {
     "data": {
      "text/plain": [
       "<BarContainer object of 1 artists>"
      ]
     },
     "execution_count": 16,
     "metadata": {},
     "output_type": "execute_result"
    },
    {
     "data": {
      "text/plain": [
       "Text(0.15, 0.18442622950819673, '37%')"
      ]
     },
     "execution_count": 16,
     "metadata": {},
     "output_type": "execute_result"
    },
    {
     "data": {
      "text/plain": [
       "<BarContainer object of 1 artists>"
      ]
     },
     "execution_count": 16,
     "metadata": {},
     "output_type": "execute_result"
    },
    {
     "data": {
      "text/plain": [
       "Text(0.85, 0.4605263157894737, '92%')"
      ]
     },
     "execution_count": 16,
     "metadata": {},
     "output_type": "execute_result"
    },
    {
     "data": {
      "text/plain": [
       "<BarContainer object of 1 artists>"
      ]
     },
     "execution_count": 16,
     "metadata": {},
     "output_type": "execute_result"
    },
    {
     "data": {
      "text/plain": [
       "Text(1.15, 0.0787037037037037, '16%')"
      ]
     },
     "execution_count": 16,
     "metadata": {},
     "output_type": "execute_result"
    },
    {
     "data": {
      "text/plain": [
       "<BarContainer object of 1 artists>"
      ]
     },
     "execution_count": 16,
     "metadata": {},
     "output_type": "execute_result"
    },
    {
     "data": {
      "text/plain": [
       "Text(1.85, 0.25, '50%')"
      ]
     },
     "execution_count": 16,
     "metadata": {},
     "output_type": "execute_result"
    },
    {
     "data": {
      "text/plain": [
       "<BarContainer object of 1 artists>"
      ]
     },
     "execution_count": 16,
     "metadata": {},
     "output_type": "execute_result"
    },
    {
     "data": {
      "text/plain": [
       "Text(2.15, 0.06772334293948126, '14%')"
      ]
     },
     "execution_count": 16,
     "metadata": {},
     "output_type": "execute_result"
    },
    {
     "data": {
      "text/plain": [
       "<matplotlib.legend.Legend at 0xcc57668>"
      ]
     },
     "execution_count": 16,
     "metadata": {},
     "output_type": "execute_result"
    },
    {
     "data": {
      "text/plain": [
       "([<matplotlib.axis.XTick at 0xcc46ba8>,\n",
       "  <matplotlib.axis.XTick at 0xcc46eb8>,\n",
       "  <matplotlib.axis.XTick at 0xcc3a6a0>],\n",
       " <a list of 3 Text xticklabel objects>)"
      ]
     },
     "execution_count": 16,
     "metadata": {},
     "output_type": "execute_result"
    },
    {
     "data": {
      "text/plain": [
       "Text(0.5, 0, 'Passenger Class')"
      ]
     },
     "execution_count": 16,
     "metadata": {},
     "output_type": "execute_result"
    },
    {
     "data": {
      "text/plain": [
       "Text(0, 0.5, 'Survival Rate')"
      ]
     },
     "execution_count": 16,
     "metadata": {},
     "output_type": "execute_result"
    },
    {
     "data": {
      "text/plain": [
       "Text(0.5, 1.0, 'Survival Rate vs Gender & Passenger Class ')"
      ]
     },
     "execution_count": 16,
     "metadata": {},
     "output_type": "execute_result"
    },
    {
     "data": {
      "image/png": "[encoded data removed]",
      "text/plain": [
       "<Figure size 432x288 with 1 Axes>"
      ]
     },
     "metadata": {
      "needs_background": "light"
     },
     "output_type": "display_data"
    }
   ],
   "source": [
    "sv_sex_class = data_train.groupby(['Sex','Pclass'])['Survived']\n",
    "#sv_sex_class.sum()\n",
    "\n",
    "\n",
    "sv_rate_sex_class = sv_sex_class.apply(sv_rate)\n",
    "#sv_rate_sex_class\n",
    "#sv_rate_sex_class['female',1]\n",
    "\n",
    "#sv_class_sex = train.groupby(['Pclass','Sex'])['Survived']\n",
    "#sv_rate_class_sex = sv_class_sex.apply(sv_rate)\n",
    "#sv_rate_class_sex\n",
    "\n",
    "plt.figure()\n",
    "\n",
    "width = 0.3\n",
    "\n",
    "for nx in x_Pclass:\n",
    "    #x_Pclass[nx]\n",
    "    sv_fm = sv_rate_sex_class['female',nx+1]    \n",
    "    plt.bar(x_Pclass[nx]-width/2, sv_fm, width, color = 'pink')   \n",
    "    plt.annotate('{:.0%}'.format(sv_fm),xy = (x_Pclass[nx]-width/2,sv_fm/2),ha='center', va='center')\n",
    "    \n",
    "    sv_m = sv_rate_sex_class['male',nx+1]    \n",
    "    plt.bar(x_Pclass[nx]+width/2, sv_m, width, color = 'dodgerblue')   \n",
    "    plt.annotate('{:.0%}'.format(sv_m),xy = (x_Pclass[nx]+width/2,sv_m/2),ha='center', va='center')\n",
    "    \n",
    "plt.legend(['female','male'])\n",
    "plt.xticks(x_Pclass,['1st','2nd','3rd'])\n",
    "plt.xlabel('Passenger Class')\n",
    "plt.ylabel('Survival Rate')\n",
    "plt.title('Survival Rate vs Gender & Passenger Class ')   "
   ]
  },
  {
   "cell_type": "markdown",
   "metadata": {},
   "source": [
    "Its clear that in all passenger classes, females have a much higher survival rate."
   ]
  },
  {
   "cell_type": "markdown",
   "metadata": {},
   "source": [
    "### 3. Age distribution of survival passengers"
   ]
  },
  {
   "cell_type": "code",
   "execution_count": 17,
   "metadata": {
    "scrolled": true
   },
   "outputs": [
    {
     "data": {
      "text/plain": [
       "<Figure size 432x288 with 0 Axes>"
      ]
     },
     "execution_count": 17,
     "metadata": {},
     "output_type": "execute_result"
    },
    {
     "data": {
      "text/plain": [
       "(<Figure size 576x288 with 2 Axes>,\n",
       " array([<matplotlib.axes._subplots.AxesSubplot object at 0x000000000DE42710>,\n",
       "        <matplotlib.axes._subplots.AxesSubplot object at 0x000000000DE05FD0>],\n",
       "       dtype=object))"
      ]
     },
     "execution_count": 17,
     "metadata": {},
     "output_type": "execute_result"
    },
    {
     "data": {
      "text/plain": [
       "<matplotlib.axes._subplots.AxesSubplot at 0xde42208>"
      ]
     },
     "execution_count": 17,
     "metadata": {},
     "output_type": "execute_result"
    },
    {
     "data": {
      "text/plain": [
       "<matplotlib.axes._subplots.AxesSubplot at 0xde42208>"
      ]
     },
     "execution_count": 17,
     "metadata": {},
     "output_type": "execute_result"
    },
    {
     "data": {
      "text/plain": [
       "Text(0.5, 0, 'Age')"
      ]
     },
     "execution_count": 17,
     "metadata": {},
     "output_type": "execute_result"
    },
    {
     "data": {
      "text/plain": [
       "Text(0, 0.5, 'Distribution')"
      ]
     },
     "execution_count": 17,
     "metadata": {},
     "output_type": "execute_result"
    },
    {
     "data": {
      "text/plain": [
       "Text(0.5, 1.0, 'Distribution of Survived Passengers')"
      ]
     },
     "execution_count": 17,
     "metadata": {},
     "output_type": "execute_result"
    },
    {
     "data": {
      "text/plain": [
       "<matplotlib.axes._subplots.AxesSubplot at 0xca4b908>"
      ]
     },
     "execution_count": 17,
     "metadata": {},
     "output_type": "execute_result"
    },
    {
     "data": {
      "text/plain": [
       "<matplotlib.axes._subplots.AxesSubplot at 0xca4b908>"
      ]
     },
     "execution_count": 17,
     "metadata": {},
     "output_type": "execute_result"
    },
    {
     "data": {
      "text/plain": [
       "Text(0.5, 0, 'Age')"
      ]
     },
     "execution_count": 17,
     "metadata": {},
     "output_type": "execute_result"
    },
    {
     "data": {
      "text/plain": [
       "Text(0, 0.5, 'Distribution')"
      ]
     },
     "execution_count": 17,
     "metadata": {},
     "output_type": "execute_result"
    },
    {
     "data": {
      "text/plain": [
       "Text(0.5, 1.0, 'Distribution of Non-survived Passengers')"
      ]
     },
     "execution_count": 17,
     "metadata": {},
     "output_type": "execute_result"
    },
    {
     "data": {
      "text/plain": [
       "<Figure size 432x288 with 0 Axes>"
      ]
     },
     "metadata": {},
     "output_type": "display_data"
    },
    {
     "data": {
      "image/png": "[encoded data removed]",
      "text/plain": [
       "<Figure size 576x288 with 2 Axes>"
      ]
     },
     "metadata": {
      "needs_background": "light"
     },
     "output_type": "display_data"
    }
   ],
   "source": [
    "sv_age = data_train['Age'][(data_train['Survived']==1)& data_train['Age'].notnull()]\n",
    "nsv_age = data_train['Age'][(data_train['Survived']==0)& data_train['Age'].notnull()]\n",
    "\n",
    "\n",
    "n_bins = 18\n",
    "plt.figure()\n",
    "plt.subplots(1,2,sharey = False, tight_layout = True,figsize=(8, 4))\n",
    "\n",
    "#ax1 = plt.subplot(1,2,1)\n",
    "#plt.hist(sv_age,bins = n_bins,ax = ax1, range = (0,90))\n",
    "\n",
    "plt.subplot(1,2,1)\n",
    "sns.distplot(sv_age, kde=True, color=\"Blue\",bins=n_bins,hist_kws={\"histtype\": \"bar\",\"range\":(0,90)})\n",
    "plt.xlabel('Age')\n",
    "plt.ylabel('Distribution')\n",
    "plt.title('Distribution of Survived Passengers')\n",
    "\n",
    "plt.subplot(1,2,2)\n",
    "sns.distplot(nsv_age, kde=True, color=\"Orange\",bins=n_bins,hist_kws={\"histtype\": \"bar\",\"range\":(0,90)})\n",
    "plt.xlabel('Age')\n",
    "plt.ylabel('Distribution')\n",
    "plt.title('Distribution of Non-survived Passengers')"
   ]
  },
  {
   "cell_type": "markdown",
   "metadata": {},
   "source": [
    "The age distribution of survived and non-survived passengers are quite close.But for the survived passengers, the distribution has a clear peak at age group 0-4, this is due to the 'women and children first' policy.There are also more percentage of middle age for survived passengers, in compared to the non-survived group, which has a peak at the age group of 20-25.We shall see below that this peak is contributed by young male passengers, which takes up the largest percentage in the passengers. "
   ]
  },
  {
   "cell_type": "markdown",
   "metadata": {},
   "source": [
    "### 4. Survival rate vs Age group"
   ]
  },
  {
   "cell_type": "markdown",
   "metadata": {},
   "source": [
    " We define several age groups using the pandas function cut\n",
    "\n",
    "pd.cut(DataFrame.Column,bins,labels,include_lowest = True)"
   ]
  },
  {
   "cell_type": "code",
   "execution_count": 18,
   "metadata": {
    "scrolled": true
   },
   "outputs": [
    {
     "data": {
      "text/plain": [
       "<Figure size 432x288 with 0 Axes>"
      ]
     },
     "execution_count": 18,
     "metadata": {},
     "output_type": "execute_result"
    },
    {
     "data": {
      "text/plain": [
       "<BarContainer object of 9 artists>"
      ]
     },
     "execution_count": 18,
     "metadata": {},
     "output_type": "execute_result"
    },
    {
     "data": {
      "text/plain": [
       "Text(0.5, 0, 'Age group')"
      ]
     },
     "execution_count": 18,
     "metadata": {},
     "output_type": "execute_result"
    },
    {
     "data": {
      "text/plain": [
       "Text(0, 0.5, 'Survival rate (%)')"
      ]
     },
     "execution_count": 18,
     "metadata": {},
     "output_type": "execute_result"
    },
    {
     "data": {
      "text/plain": [
       "([<matplotlib.axis.XTick at 0xc715da0>,\n",
       "  <matplotlib.axis.XTick at 0xc741b38>,\n",
       "  <matplotlib.axis.XTick at 0xc7418d0>,\n",
       "  <matplotlib.axis.XTick at 0xc4d2f60>,\n",
       "  <matplotlib.axis.XTick at 0xc22f908>,\n",
       "  <matplotlib.axis.XTick at 0xc49d9b0>,\n",
       "  <matplotlib.axis.XTick at 0xc49d7f0>,\n",
       "  <matplotlib.axis.XTick at 0xc49dc18>,\n",
       "  <matplotlib.axis.XTick at 0xbea2320>],\n",
       " <a list of 9 Text xticklabel objects>)"
      ]
     },
     "execution_count": 18,
     "metadata": {},
     "output_type": "execute_result"
    },
    {
     "data": {
      "image/png": "[encoded data removed]",
      "text/plain": [
       "<Figure size 432x288 with 1 Axes>"
      ]
     },
     "metadata": {
      "needs_background": "light"
     },
     "output_type": "display_data"
    }
   ],
   "source": [
    "bins = [0,5,12,18,30,40,50,60,70,120]\n",
    "labels = ['0-4','5-12','13-17','18-29','30-39','40-49','50-59','60-69','70+']\n",
    "data_train['agegroup'] = pd.cut(data_train.Age,bins,labels = labels,include_lowest = True)\n",
    "\n",
    "#train['agegroup'] \n",
    "\n",
    "sv_agegroup = data_train.groupby('agegroup')['Survived']\n",
    "num_agegroup = sv_agegroup.count()\n",
    "sv_num_agegroup = sv_agegroup.sum()\n",
    "sv_rate_agegroup = sv_agegroup.mean()\n",
    "\n",
    "xnum = np.arange(len(labels))\n",
    "\n",
    "plt.figure()\n",
    "plt.bar(xnum,sv_rate_agegroup*100)\n",
    "\n",
    "plt.xlabel('Age group')\n",
    "plt.ylabel('Survival rate (%)')\n",
    "plt.xticks(xnum,['0-4','5-12','13-17','18-29','30-39','40-49','50-59','60-69','70+'])\n",
    "\n"
   ]
  },
  {
   "cell_type": "code",
   "execution_count": null,
   "metadata": {},
   "outputs": [],
   "source": []
  },
  {
   "cell_type": "markdown",
   "metadata": {},
   "source": [
    "Other combined groups (Ages,Gender) & (Ages, Pclass)"
   ]
  },
  {
   "cell_type": "code",
   "execution_count": 19,
   "metadata": {
    "scrolled": true
   },
   "outputs": [
    {
     "data": {
      "text/plain": [
       "(<Figure size 792x288 with 2 Axes>,\n",
       " array([<matplotlib.axes._subplots.AxesSubplot object at 0x000000000C457358>,\n",
       "        <matplotlib.axes._subplots.AxesSubplot object at 0x000000000C4667F0>],\n",
       "       dtype=object))"
      ]
     },
     "execution_count": 19,
     "metadata": {},
     "output_type": "execute_result"
    },
    {
     "data": {
      "text/plain": [
       "<matplotlib.axes._subplots.AxesSubplot at 0xc457da0>"
      ]
     },
     "execution_count": 19,
     "metadata": {},
     "output_type": "execute_result"
    },
    {
     "data": {
      "text/plain": [
       "<BarContainer object of 9 artists>"
      ]
     },
     "execution_count": 19,
     "metadata": {},
     "output_type": "execute_result"
    },
    {
     "data": {
      "text/plain": [
       "<BarContainer object of 8 artists>"
      ]
     },
     "execution_count": 19,
     "metadata": {},
     "output_type": "execute_result"
    },
    {
     "data": {
      "text/plain": [
       "Text(0.5, 0, 'Age group')"
      ]
     },
     "execution_count": 19,
     "metadata": {},
     "output_type": "execute_result"
    },
    {
     "data": {
      "text/plain": [
       "Text(0, 0.5, 'Number of people')"
      ]
     },
     "execution_count": 19,
     "metadata": {},
     "output_type": "execute_result"
    },
    {
     "data": {
      "text/plain": [
       "([<matplotlib.axis.XTick at 0xc4fcb70>,\n",
       "  <matplotlib.axis.XTick at 0xc4fc400>,\n",
       "  <matplotlib.axis.XTick at 0xc4fc2b0>,\n",
       "  <matplotlib.axis.XTick at 0xc7cca20>,\n",
       "  <matplotlib.axis.XTick at 0xc7cce80>,\n",
       "  <matplotlib.axis.XTick at 0xc7b7358>,\n",
       "  <matplotlib.axis.XTick at 0xc7b77f0>,\n",
       "  <matplotlib.axis.XTick at 0xc7b7cc0>,\n",
       "  <matplotlib.axis.XTick at 0xc7e5208>],\n",
       " <a list of 9 Text xticklabel objects>)"
      ]
     },
     "execution_count": 19,
     "metadata": {},
     "output_type": "execute_result"
    },
    {
     "data": {
      "text/plain": [
       "<matplotlib.legend.Legend at 0xca71c88>"
      ]
     },
     "execution_count": 19,
     "metadata": {},
     "output_type": "execute_result"
    },
    {
     "data": {
      "text/plain": [
       "Text(0.5, 1.0, 'Age distribution of male and female passengers')"
      ]
     },
     "execution_count": 19,
     "metadata": {},
     "output_type": "execute_result"
    },
    {
     "data": {
      "text/plain": [
       "<matplotlib.axes._subplots.AxesSubplot at 0xc7ccda0>"
      ]
     },
     "execution_count": 19,
     "metadata": {},
     "output_type": "execute_result"
    },
    {
     "data": {
      "text/plain": [
       "<BarContainer object of 9 artists>"
      ]
     },
     "execution_count": 19,
     "metadata": {},
     "output_type": "execute_result"
    },
    {
     "data": {
      "text/plain": [
       "<BarContainer object of 8 artists>"
      ]
     },
     "execution_count": 19,
     "metadata": {},
     "output_type": "execute_result"
    },
    {
     "data": {
      "text/plain": [
       "Text(0.5, 0, 'Age group')"
      ]
     },
     "execution_count": 19,
     "metadata": {},
     "output_type": "execute_result"
    },
    {
     "data": {
      "text/plain": [
       "Text(0, 0.5, 'Survival rate')"
      ]
     },
     "execution_count": 19,
     "metadata": {},
     "output_type": "execute_result"
    },
    {
     "data": {
      "text/plain": [
       "([<matplotlib.axis.XTick at 0xcb713c8>,\n",
       "  <matplotlib.axis.XTick at 0xcb78c18>,\n",
       "  <matplotlib.axis.XTick at 0xcb789b0>,\n",
       "  <matplotlib.axis.XTick at 0xc466f98>,\n",
       "  <matplotlib.axis.XTick at 0xc466908>,\n",
       "  <matplotlib.axis.XTick at 0xc4663c8>,\n",
       "  <matplotlib.axis.XTick at 0xc463c88>,\n",
       "  <matplotlib.axis.XTick at 0xc4636d8>,\n",
       "  <matplotlib.axis.XTick at 0xc463400>],\n",
       " <a list of 9 Text xticklabel objects>)"
      ]
     },
     "execution_count": 19,
     "metadata": {},
     "output_type": "execute_result"
    },
    {
     "data": {
      "text/plain": [
       "<matplotlib.legend.Legend at 0xc463588>"
      ]
     },
     "execution_count": 19,
     "metadata": {},
     "output_type": "execute_result"
    },
    {
     "data": {
      "text/plain": [
       "Text(0.5, 1.0, 'Age distribution of Survival rate')"
      ]
     },
     "execution_count": 19,
     "metadata": {},
     "output_type": "execute_result"
    },
    {
     "data": {
      "image/png": "[encoded data removed]",
      "text/plain": [
       "<Figure size 792x288 with 2 Axes>"
      ]
     },
     "metadata": {
      "needs_background": "light"
     },
     "output_type": "display_data"
    }
   ],
   "source": [
    "age_sex = data_train.groupby(['agegroup'])['Sex'].value_counts()\n",
    "\n",
    "#age_sex[:,'male']\n",
    "#age_sex[:,'female']\n",
    "\n",
    "width=0.4\n",
    "plt.subplots(1,2,sharey = False, tight_layout = True,figsize=(11, 4))\n",
    "\n",
    "plt.subplot(121)\n",
    "plt.bar(xnum-width/2,age_sex[:,'male'], width, color = 'dodgerblue')\n",
    "plt.bar(xnum[0:8]+width/2,age_sex[:,'female'], width, color = 'pink')\n",
    "plt.xlabel('Age group')\n",
    "plt.ylabel('Number of people')\n",
    "plt.xticks(xnum,['0-4','5-12','13-17','18-29','30-39','40-49','50-59','60-69','70+'])\n",
    "plt.legend(['male','female'])\n",
    "plt.title('Age distribution of male and female passengers')\n",
    "\n",
    "\n",
    "plt.subplot(122)\n",
    "sv_age_sex = data_train.groupby(['agegroup','Sex'])['Survived']\n",
    "num_age_sex = sv_age_sex.count()\n",
    "#num_age_sex\n",
    "\n",
    "sv_num_age_sex = sv_age_sex.sum()\n",
    "#sv_num_age_sex\n",
    "\n",
    "sv_rate_age_sex = sv_age_sex.mean()\n",
    "#sv_rate_age_sex\n",
    "plt.bar(xnum-width/2,sv_rate_age_sex[:,'male'], width, color = 'dodgerblue')\n",
    "plt.bar(xnum[0:8]+width/2,sv_rate_age_sex[:,'female'], width, color = 'pink')\n",
    "plt.xlabel('Age group')\n",
    "plt.ylabel('Survival rate')\n",
    "plt.xticks(xnum,['0-4','5-12','13-17','18-29','30-39','40-49','50-59','60-69','70+'])\n",
    "plt.legend(['male','female'])\n",
    "plt.title('Age distribution of Survival rate')\n",
    "\n"
   ]
  },
  {
   "cell_type": "markdown",
   "metadata": {},
   "source": [
    "### 5. Survival vs SibSp and Parch"
   ]
  },
  {
   "cell_type": "markdown",
   "metadata": {},
   "source": [
    "Another more subtle factor to take into account is the number of siblines and parents/children."
   ]
  },
  {
   "cell_type": "code",
   "execution_count": 20,
   "metadata": {},
   "outputs": [
    {
     "name": "stdout",
     "output_type": "stream",
     "text": [
      "Counts for number of SibSp:\n",
      " 0    608\n",
      "1    209\n",
      "2     28\n",
      "4     18\n",
      "3     16\n",
      "8      7\n",
      "5      5\n",
      "Name: SibSp, dtype: int64\n",
      "Counts for number of Parch:\n",
      " 0    678\n",
      "1    118\n",
      "2     80\n",
      "5      5\n",
      "3      5\n",
      "4      4\n",
      "6      1\n",
      "Name: Parch, dtype: int64\n"
     ]
    }
   ],
   "source": [
    "print('Counts for number of SibSp:\\n',data_train['SibSp'].value_counts())\n",
    "print('Counts for number of Parch:\\n',data_train['Parch'].value_counts())"
   ]
  },
  {
   "cell_type": "code",
   "execution_count": 21,
   "metadata": {},
   "outputs": [
    {
     "name": "stdout",
     "output_type": "stream",
     "text": [
      "survival rate vs number of siblings:\n",
      " SibSp\n",
      "0    0.345395\n",
      "1    0.535885\n",
      "2    0.464286\n",
      "3    0.250000\n",
      "4    0.166667\n",
      "5    0.000000\n",
      "8    0.000000\n",
      "Name: Survived, dtype: float64\n",
      "survival rate vs number of parents/children:\n",
      " Parch\n",
      "0    0.343658\n",
      "1    0.550847\n",
      "2    0.500000\n",
      "3    0.600000\n",
      "4    0.000000\n",
      "5    0.200000\n",
      "6    0.000000\n",
      "Name: Survived, dtype: float64\n"
     ]
    }
   ],
   "source": [
    "sv_sib= data_train.groupby('SibSp')['Survived'].mean()\n",
    "sv_pch= data_train.groupby('Parch')['Survived'].mean()\n",
    "print('survival rate vs number of siblings:\\n',sv_sib)\n",
    "print('survival rate vs number of parents/children:\\n',sv_pch)"
   ]
  },
  {
   "cell_type": "code",
   "execution_count": 22,
   "metadata": {},
   "outputs": [
    {
     "data": {
      "image/png": "[encoded data removed]",
      "text/plain": [
       "<Figure size 720x288 with 2 Axes>"
      ]
     },
     "metadata": {
      "needs_background": "light"
     },
     "output_type": "display_data"
    }
   ],
   "source": [
    "plt.figure\n",
    "\n",
    "plt.subplots(1,2,sharey = False, tight_layout = True,figsize=(10, 4))\n",
    "\n",
    "plt.subplot(121)\n",
    "sns.barplot(x = \"SibSp\", \n",
    "            y = \"Survived\", \n",
    "            estimator = np.mean,   # another trick to calculate the survival rate, is to use mean() function, since survived = 1, nonsurvived = 0\n",
    "            data=data_train, \n",
    "            #ax = pclass_bar,\n",
    "            capsize = 0,\n",
    "            errwidth = 0,\n",
    "            linewidth = 2 )\n",
    "plt.title(\"Survival Rate vs Number of Siblings\",fontsize = 15)\n",
    "plt.xlabel(\"Number of Siblings\", fontsize = 12);\n",
    "plt.ylabel(\"Survival rate\", fontsize = 12);\n",
    "labels = ['0', '1', '2','3','4','5','8']\n",
    "#val = sorted(train.Pclass.unique())\n",
    "val = [0,1,2,3,4,5,6,7] ## this is just a temporary trick to get the label right. \n",
    "plt.xticks(val,labels);\n",
    "\n",
    "plt.subplot(122)\n",
    "sns.barplot(x = \"Parch\", \n",
    "            y = \"Survived\", \n",
    "            estimator = np.mean,   # another trick to calculate the survival rate, is to use mean() function, since survived = 1, nonsurvived = 0\n",
    "            data=data_train, \n",
    "            #ax = pclass_bar,\n",
    "            capsize = 0,\n",
    "            errwidth = 0,\n",
    "            linewidth = 2 )\n",
    "plt.title(\"Survival Rate vs Number of Parents/Children\",fontsize = 15)\n",
    "plt.xlabel(\"Number of Parents/Children\", fontsize = 12);\n",
    "plt.ylabel(\"Survival rate\", fontsize = 12);\n",
    "labels = ['0', '1', '2','3','4','5','6']\n",
    "#val = sorted(train.Pclass.unique())\n",
    "val = [0,1,2,3,4,5,6] ## this is just a temporary trick to get the label right. \n",
    "plt.xticks(val,labels);"
   ]
  },
  {
   "cell_type": "markdown",
   "metadata": {},
   "source": [
    "We find that passengers with one or two siblings, or one to three parents/children have higher survival rates than passengers without siblings or parents/children. However, if the number of siblings is larger than 3 or the number of parents/children is larger than 4, the survival rate is significantly lower."
   ]
  },
  {
   "cell_type": "markdown",
   "metadata": {},
   "source": [
    "### Summary of statistic analysis\n"
   ]
  },
  {
   "cell_type": "markdown",
   "metadata": {},
   "source": [
    "1. In the training data set, we found that only around 38% of the passengers survived in the Titanic accidence, while the rest 62% are dead.\n",
    "2. Among the passengers, 74% of females survived, while only 19% of male survived. First class passengers have the highest survival rate (63%), followed by second class (47%) and third class (24%)\n",
    "3. Children below the age of 5 have much higher survival rate (70%), in compared to other age group (below 40%)\n",
    "\n",
    "These observations are consistent with the record, which showed that females and children were given the priority to getting onto the saving boat during the accident. "
   ]
  },
  {
   "cell_type": "markdown",
   "metadata": {},
   "source": [
    "##  Machine learning models to predict the survival rate"
   ]
  },
  {
   "cell_type": "markdown",
   "metadata": {},
   "source": [
    "Below we use different types of machine learning models to predict the survival rate given certain parameters"
   ]
  },
  {
   "cell_type": "markdown",
   "metadata": {},
   "source": [
    "There are several models we want to try: Bayes, K-NN, SVM, Decision Forrests, Logistic Regression, Deep Neural Network. We will use scikit-learn and pytorch libraries."
   ]
  },
  {
   "cell_type": "markdown",
   "metadata": {},
   "source": [
    "First, we need to prepare the dataset.\n",
    "Among the 891 training samples, 177 of them do not have age information, similarly 86 out of 418 testing samples do not have age information. This takes up around 20% of the samples and we can't ignore them during training or testing. Rather, we should give a proper guess of the age. A coarse assumption is simply to fill the missing value with the mean value of 29. However, we can also use machine learning to have a more accurate estimation of the age based on other parameters.\n",
    "\n",
    "From the correlation matrix, we find the age actually has certain correlation with the Pclass, SibSp, Parch."
   ]
  },
  {
   "cell_type": "markdown",
   "metadata": {},
   "source": [
    "### 1. Predicting unknown age information"
   ]
  },
  {
   "cell_type": "markdown",
   "metadata": {},
   "source": [
    "We use the train data set with age information for training, and test the accuracy of the model using data from the test set. "
   ]
  },
  {
   "cell_type": "code",
   "execution_count": 23,
   "metadata": {},
   "outputs": [],
   "source": [
    "\n",
    "data_test['sex_num']=(data_test['Sex']=='male')*1-0.5 # convert gender to numeric, \"male\"=0.5, \"female\" = -0.5\n",
    "\n",
    "\n",
    "# # normalize the fare distribution\n",
    "maxfare = pd.merge(data_train[['Fare']],data_test[['Fare']]).max()\n",
    "minfare = pd.merge(data_train[['Fare']],data_test[['Fare']]).min()\n",
    "\n",
    "data_train['Fare_norm'] = (data_train[['Fare']]-minfare)/(maxfare - minfare)\n",
    "data_test['Fare_norm'] =(data_test[['Fare']]-minfare)/(maxfare - minfare)\n",
    "# list for training\n",
    "lists = ['Pclass', 'SibSp', 'Parch','sex_num','Fare_norm','Age']\n",
    "\n",
    "remove_list = ['Age']\n",
    "dt_train = data_train[lists].dropna(how='any',axis=0)\n",
    "dt_test = data_test[lists].dropna(how='any',axis=0)\n",
    "\n",
    "# # normalize dataset\n",
    "# from sklearn.preprocessing import MinMaxScaler\n",
    "# # call MinMaxScaler object\n",
    "# min_max_scaler = MinMaxScaler()\n",
    "# # feed in a numpy array\n",
    "# dt_train_norm = min_max_scaler.fit_transform(dt_train.values)\n",
    "\n",
    "X_train_age = dt_train[[element for i, element in enumerate(lists) if element not in remove_list]]\n",
    "X_test_age = dt_test[[element for i, element in enumerate(lists) if element not in remove_list]]\n",
    "Y_train_age = dt_train[['Age']]\n",
    "Y_test_age = dt_test[['Age']]\n",
    "\n"
   ]
  },
  {
   "cell_type": "code",
   "execution_count": null,
   "metadata": {},
   "outputs": [],
   "source": []
  },
  {
   "cell_type": "markdown",
   "metadata": {},
   "source": [
    "Since most regression model and classification model can be generalized using deep neural network, we use this approach to see if we can provide a reasonable estimation accuracy of the age."
   ]
  },
  {
   "cell_type": "code",
   "execution_count": 24,
   "metadata": {},
   "outputs": [
    {
     "data": {
      "text/plain": [
       "<torch._C.Generator at 0x853b7f0>"
      ]
     },
     "execution_count": 24,
     "metadata": {},
     "output_type": "execute_result"
    }
   ],
   "source": [
    "# Import the libraries we need for this lab\n",
    "\n",
    "# Using the following line code to install the torchvision library\n",
    "# !conda install -y torchvision\n",
    "\n",
    "import torch \n",
    "import torch.nn as nn\n",
    "import torchvision.transforms as transforms\n",
    "import torchvision.datasets as dsets\n",
    "import torch.nn.functional as F\n",
    "import matplotlib.pylab as plt\n",
    "import numpy as np\n",
    "from torch.utils.data import DataLoader, TensorDataset\n",
    "from torch import Tensor\n",
    "torch.manual_seed(2)"
   ]
  },
  {
   "cell_type": "markdown",
   "metadata": {},
   "source": [
    "we will build a simple deep neural network with 5 input channels, 1 output channels, 3 hidden layers"
   ]
  },
  {
   "cell_type": "code",
   "execution_count": 25,
   "metadata": {},
   "outputs": [],
   "source": [
    "# Create the model class using Relu as the activation function\n",
    "class NetRelu(nn.Module):\n",
    "    \n",
    "    # constructor\n",
    "    def __init__(self,D_in, H1, H2, H3, D_out):\n",
    "        super(NetRelu,self).__init__()\n",
    "        self.linear1 = nn.Linear(D_in, H1)\n",
    "        self.linear2 = nn.Linear(H1,H2)\n",
    "        self.linear3 = nn.Linear(H2,H3)\n",
    "        self.linear4 = nn.Linear(H3,D_out)\n",
    "        \n",
    "    def forward(self,x):\n",
    "        x = torch.relu(self.linear1(x))\n",
    "        x = torch.relu(self.linear2(x))\n",
    "        x = torch.relu(self.linear3(x))\n",
    "        x = self.linear4(x)\n",
    "        \n",
    "        return x"
   ]
  },
  {
   "cell_type": "code",
   "execution_count": 26,
   "metadata": {},
   "outputs": [],
   "source": [
    "# Create the model class using Relu as the activation function\n",
    "class NetTanh(nn.Module):\n",
    "    \n",
    "    # constructor\n",
    "    def __init__(self,D_in, H1, H2, H3, D_out):\n",
    "        super(NetTanh,self).__init__()\n",
    "        self.linear1 = nn.Linear(D_in, H1)\n",
    "        self.linear2 = nn.Linear(H1,H2)\n",
    "        self.linear3 = nn.Linear(H2,H3)\n",
    "        self.linear4 = nn.Linear(H3,D_out)\n",
    "        \n",
    "    def forward(self,x):\n",
    "        x = torch.tanh(self.linear1(x))\n",
    "        x = torch.tanh(self.linear2(x))\n",
    "        x = torch.tanh(self.linear3(x))\n",
    "        x = self.linear4(x)\n",
    "        \n",
    "        return x"
   ]
  },
  {
   "cell_type": "code",
   "execution_count": 27,
   "metadata": {},
   "outputs": [],
   "source": [
    "# Define the class for neural network model with He Initialization\n",
    "\n",
    "class Net_He(nn.Module):\n",
    "    \n",
    "    # Constructor\n",
    "    def __init__(self, Layers):\n",
    "        super(Net_He, self).__init__()\n",
    "        self.hidden = nn.ModuleList()\n",
    "\n",
    "        for input_size, output_size in zip(Layers, Layers[1:]):\n",
    "            linear = nn.Linear(input_size, output_size)\n",
    "            torch.nn.init.kaiming_uniform_(linear.weight, nonlinearity='relu')\n",
    "            self.hidden.append(linear)\n",
    "\n",
    "    # \n",
    "    def forward(self, x):\n",
    "        L = len(self.hidden)\n",
    "        for (l, linear_transform) in zip(range(L), self.hidden):\n",
    "            if l < L - 1:\n",
    "                x = F.relu(linear_transform(x))\n",
    "            else:\n",
    "                x = linear_transform(x)\n",
    "        return x"
   ]
  },
  {
   "cell_type": "code",
   "execution_count": 71,
   "metadata": {},
   "outputs": [],
   "source": [
    "# define criterion, optimizer, train_loader and validation_loader\n",
    "\n",
    "# Entropy loss\n",
    "def criterion_cel(outputs, labels):\n",
    "    out = -1 * torch.mean(labels * torch.log(outputs) + (1 - labels) * torch.log(1 - outputs))\n",
    "    return out\n",
    "\n",
    "# relative square error\n",
    "def criterion_mse(outputs, labels):\n",
    "    out = torch.sqrt(torch.mean(abs((outputs - labels)/labels)**2))\n",
    "    return out\n",
    "\n"
   ]
  },
  {
   "cell_type": "code",
   "execution_count": 74,
   "metadata": {},
   "outputs": [],
   "source": [
    "# Train the model\n",
    "\n",
    "def train(model, criterion, train_loader, test_loader, optimizer, epochs):\n",
    "   \n",
    "    \n",
    "    # create a dictionary for the loss \n",
    "    loss_acc = {'train_loss':[], 'test_loss':[],'train_acc':[], 'test_acc':[]}\n",
    "    \n",
    "    i = 0\n",
    "        \n",
    "    for epoch in range(epochs):\n",
    "        for i, (x,y) in enumerate(train_loader):\n",
    "            optimizer.zero_grad()\n",
    "            yhat = model(x)\n",
    "            loss = criterion(yhat, y)\n",
    "            loss.backward()\n",
    "            optimizer.step()\n",
    "            loss_acc['train_loss'].append(loss)\n",
    "        \n",
    "        correct = 0\n",
    "        for x,y in test_loader:\n",
    "            yhat = model(x)\n",
    "            loss = criterion(yhat, y)\n",
    "            loss_acc['test_loss'].append(loss)\n",
    "            \n",
    "            # we define a 'correct' estimation if the predicted age has a relative error of abs(yhat - y)/y<= 0.25\n",
    "            correct+= (abs((y-yhat)/y)<=0.25).sum().item()\n",
    "            \n",
    "        acc = correct/len(test_dataset)\n",
    "        \n",
    "        loss_acc['test_acc'].append(acc)\n",
    "            \n",
    "    return loss_acc"
   ]
  },
  {
   "cell_type": "code",
   "execution_count": 75,
   "metadata": {},
   "outputs": [],
   "source": [
    "# to use dataloader of minibatch, we need to combine the features and outputs in a nested format like train_dataset[0] = [[feature][0], output[0]]\n",
    "train_dataset = TensorDataset(Tensor(X_train_age.values),Tensor(Y_train_age.values))\n",
    "test_dataset = TensorDataset(Tensor(X_test_age.values),Tensor(Y_test_age.values))\n",
    "\n",
    "train_loader = DataLoader(dataset=train_dataset, batch_size=len(train_dataset), shuffle=False)\n",
    "test_loader = DataLoader(dataset=test_dataset, batch_size=len(test_dataset), shuffle=False)\n",
    "\n"
   ]
  },
  {
   "cell_type": "code",
   "execution_count": 78,
   "metadata": {
    "scrolled": true
   },
   "outputs": [],
   "source": [
    "input_dim = 5\n",
    "h1_dim = 10\n",
    "h2_dim = 10\n",
    "h3_dim = 5\n",
    "output_dim = 1\n",
    "momentum = 0.9\n",
    "\n",
    "\n",
    "layers = [input_dim, h1_dim, h2_dim, h3_dim, output_dim]\n",
    "\n",
    "learning_rate = 0.015\n",
    "cust_epochs = 1000\n",
    "\n",
    "model_relu = NetRelu(input_dim, h1_dim, h2_dim,h3_dim,output_dim)\n",
    "optimizer_relu = torch.optim.SGD(model_relu .parameters(), lr=learning_rate, momentum=momentum)\n",
    "training_results_relu = train(model_relu, criterion_mse, train_loader, test_loader, optimizer_relu, epochs=cust_epochs)\n",
    "\n",
    "model_tanh = NetTanh(input_dim, h1_dim, h2_dim,h3_dim,output_dim)\n",
    "optimizer_tanh = torch.optim.SGD(model_tanh .parameters(), lr=learning_rate, momentum=momentum)\n",
    "training_results_tanh = train(model_tanh, criterion_mse, train_loader, test_loader, optimizer_tanh, epochs=cust_epochs)\n",
    "\n",
    "\n",
    "model_He = Net_He(layers)\n",
    "optimizer_He = torch.optim.SGD(model_He.parameters(), lr=learning_rate, momentum=momentum)\n",
    "training_results_He = train(model_He, criterion_mse, train_loader, test_loader, optimizer_He, epochs=cust_epochs)\n"
   ]
  },
  {
   "cell_type": "code",
   "execution_count": 77,
   "metadata": {
    "scrolled": true
   },
   "outputs": [
    {
     "data": {
      "text/plain": [
       "<function matplotlib.pyplot.figure(num=None, figsize=None, dpi=None, facecolor=None, edgecolor=None, frameon=True, FigureClass=<class 'matplotlib.figure.Figure'>, clear=False, **kwargs)>"
      ]
     },
     "execution_count": 77,
     "metadata": {},
     "output_type": "execute_result"
    },
    {
     "data": {
      "text/plain": [
       "(<Figure size 576x288 with 2 Axes>,\n",
       " array([<matplotlib.axes._subplots.AxesSubplot object at 0x000000001820F7F0>,\n",
       "        <matplotlib.axes._subplots.AxesSubplot object at 0x000000000FEEC1D0>],\n",
       "       dtype=object))"
      ]
     },
     "execution_count": 77,
     "metadata": {},
     "output_type": "execute_result"
    },
    {
     "data": {
      "text/plain": [
       "<matplotlib.axes._subplots.AxesSubplot at 0xca22e80>"
      ]
     },
     "execution_count": 77,
     "metadata": {},
     "output_type": "execute_result"
    },
    {
     "data": {
      "text/plain": [
       "[<matplotlib.lines.Line2D at 0xfca3630>]"
      ]
     },
     "execution_count": 77,
     "metadata": {},
     "output_type": "execute_result"
    },
    {
     "data": {
      "text/plain": [
       "[<matplotlib.lines.Line2D at 0xfca3ba8>]"
      ]
     },
     "execution_count": 77,
     "metadata": {},
     "output_type": "execute_result"
    },
    {
     "data": {
      "text/plain": [
       "[<matplotlib.lines.Line2D at 0xfca38d0>]"
      ]
     },
     "execution_count": 77,
     "metadata": {},
     "output_type": "execute_result"
    },
    {
     "data": {
      "text/plain": [
       "<matplotlib.legend.Legend at 0xfca3ef0>"
      ]
     },
     "execution_count": 77,
     "metadata": {},
     "output_type": "execute_result"
    },
    {
     "data": {
      "text/plain": [
       "Text(0.5, 0, 'epochs')"
      ]
     },
     "execution_count": 77,
     "metadata": {},
     "output_type": "execute_result"
    },
    {
     "data": {
      "text/plain": [
       "Text(0, 0.5, 'test_loss_RMS')"
      ]
     },
     "execution_count": 77,
     "metadata": {},
     "output_type": "execute_result"
    },
    {
     "data": {
      "text/plain": [
       "<matplotlib.axes._subplots.AxesSubplot at 0xfca3b70>"
      ]
     },
     "execution_count": 77,
     "metadata": {},
     "output_type": "execute_result"
    },
    {
     "data": {
      "text/plain": [
       "[<matplotlib.lines.Line2D at 0xfee0438>]"
      ]
     },
     "execution_count": 77,
     "metadata": {},
     "output_type": "execute_result"
    },
    {
     "data": {
      "text/plain": [
       "[<matplotlib.lines.Line2D at 0x1837e9e8>]"
      ]
     },
     "execution_count": 77,
     "metadata": {},
     "output_type": "execute_result"
    },
    {
     "data": {
      "text/plain": [
       "[<matplotlib.lines.Line2D at 0x1837eb70>]"
      ]
     },
     "execution_count": 77,
     "metadata": {},
     "output_type": "execute_result"
    },
    {
     "data": {
      "text/plain": [
       "<matplotlib.legend.Legend at 0x1837e978>"
      ]
     },
     "execution_count": 77,
     "metadata": {},
     "output_type": "execute_result"
    },
    {
     "data": {
      "text/plain": [
       "Text(0.5, 0, 'epochs')"
      ]
     },
     "execution_count": 77,
     "metadata": {},
     "output_type": "execute_result"
    },
    {
     "data": {
      "text/plain": [
       "Text(0, 0.5, 'math +/-5 year accuracy')"
      ]
     },
     "execution_count": 77,
     "metadata": {},
     "output_type": "execute_result"
    },
    {
     "data": {
      "image/png": "[encoded data removed]",
      "text/plain": [
       "<Figure size 576x288 with 2 Axes>"
      ]
     },
     "metadata": {
      "needs_background": "light"
     },
     "output_type": "display_data"
    }
   ],
   "source": [
    "plt.figure\n",
    "plt.subplots(1,2,sharey = False, tight_layout = True,figsize=(8, 4))\n",
    "\n",
    "plt.subplot(1,2,1)\n",
    "#plt.plot((training_results_relu['train_loss']))\n",
    "plt.plot((training_results_relu['test_loss']))\n",
    "#plt.plot((training_results_tanh['train_loss']))\n",
    "plt.plot((training_results_tanh['test_loss']))\n",
    "#plt.plot((training_results_He['train_loss']))\n",
    "plt.plot((training_results_He['test_loss']))\n",
    "\n",
    "plt.legend(['relu','tanh','He'])\n",
    "plt.xlabel('epochs')\n",
    "plt.ylabel('test_loss_RMS')\n",
    "\n",
    "plt.subplot(1,2,2)\n",
    "plt.plot((training_results_relu['test_acc']))\n",
    "plt.plot((training_results_tanh['test_acc']))\n",
    "plt.plot((training_results_He['test_acc']))\n",
    "plt.legend(['relu','tanh','He'])\n",
    "plt.xlabel('epochs')\n",
    "plt.ylabel('25% relative error age accuracy')"
   ]
  },
  {
   "cell_type": "markdown",
   "metadata": {},
   "source": [
    "The +/- 5 year accuracy is around 35% using relu function or He initialization method. Incomparison,if we use the mean age, the +/- 5 year accuracy will be only around 20%"
   ]
  },
  {
   "cell_type": "code",
   "execution_count": 33,
   "metadata": {},
   "outputs": [
    {
     "name": "stdout",
     "output_type": "stream",
     "text": [
      "+/- 5 year accuracy using only mean age: 0.20334928229665072\n"
     ]
    }
   ],
   "source": [
    "acc_ave = (abs((data_test['Age']-data_test['Age'].mean())/data_test['Age'])<=5).sum().item()/len(data_test['Age'])\n",
    "print('+/- 5 year accuracy using only mean age:',acc_ave)"
   ]
  },
  {
   "cell_type": "code",
   "execution_count": 34,
   "metadata": {},
   "outputs": [
    {
     "data": {
      "text/plain": [
       "Pclass       3.000000\n",
       "SibSp        1.000000\n",
       "Parch        0.000000\n",
       "sex_num      0.500000\n",
       "Fare_norm    0.014151\n",
       "Name: 0, dtype: float64"
      ]
     },
     "execution_count": 34,
     "metadata": {},
     "output_type": "execute_result"
    }
   ],
   "source": [
    "lists = ['Pclass', 'SibSp', 'Parch','sex_num','Fare_norm','Age']\n",
    "remove_list = ['Age']\n",
    "\n",
    "dt_train_agefill = data_train[lists]\n",
    "dt_test_agefill = data_test[lists]\n",
    "\n",
    "X_train_agefill = dt_train_agefill[[element for i, element in enumerate(lists) if element not in remove_list]]\n",
    "X_test_agefill = dt_test_agefill[[element for i, element in enumerate(lists) if element not in remove_list]]\n",
    "Y_train_agefill = dt_train_agefill[['Age']]\n",
    "Y_test_agefill = dt_test_agefill[['Age']]\n",
    "\n",
    "X_train_agefill.iloc[0]"
   ]
  },
  {
   "cell_type": "code",
   "execution_count": 35,
   "metadata": {},
   "outputs": [
    {
     "data": {
      "text/plain": [
       "<function Tensor.numpy>"
      ]
     },
     "execution_count": 35,
     "metadata": {},
     "output_type": "execute_result"
    }
   ],
   "source": [
    "# predicted age using relu function\n",
    "\n",
    "# convert dataframe to tensor of dtype = torch.float32\n",
    "x = torch.tensor(X_train_agefill.values,dtype=torch.float32)\n",
    "\n",
    "yhat = model_relu(x)\n",
    "\n",
    "yhat_pred = yhat.numpy()\n",
    "yhat_pred = pd.Dataframe(yhat_pred)"
   ]
  },
  {
   "cell_type": "code",
   "execution_count": 62,
   "metadata": {},
   "outputs": [],
   "source": [
    "yhat_pred = yhat.detach().numpy()\n",
    "yhat_pred0 = pd.DataFrame(yhat_pred)\n",
    "Y_train_agefill['Age_pred'] = yhat_pred0\n",
    "\n",
    "Y_train_agefill['error_relative'] = (Y_train_agefill['Age_pred'] - Y_train_agefill['Age'])/Y_train_agefill['Age']"
   ]
  },
  {
   "cell_type": "code",
   "execution_count": 70,
   "metadata": {},
   "outputs": [
    {
     "data": {
      "text/plain": [
       "<function matplotlib.pyplot.figure(num=None, figsize=None, dpi=None, facecolor=None, edgecolor=None, frameon=True, FigureClass=<class 'matplotlib.figure.Figure'>, clear=False, **kwargs)>"
      ]
     },
     "execution_count": 70,
     "metadata": {},
     "output_type": "execute_result"
    },
    {
     "data": {
      "text/plain": [
       "<matplotlib.collections.PathCollection at 0x183194a8>"
      ]
     },
     "execution_count": 70,
     "metadata": {},
     "output_type": "execute_result"
    },
    {
     "data": {
      "text/plain": [
       "(-100, 100)"
      ]
     },
     "execution_count": 70,
     "metadata": {},
     "output_type": "execute_result"
    },
    {
     "data": {
      "text/plain": [
       "Text(0.5, 1.0, 'Distribution of relative error vs age ')"
      ]
     },
     "execution_count": 70,
     "metadata": {},
     "output_type": "execute_result"
    },
    {
     "data": {
      "text/plain": [
       "Text(0, 0.5, 'Relative error %')"
      ]
     },
     "execution_count": 70,
     "metadata": {},
     "output_type": "execute_result"
    },
    {
     "data": {
      "text/plain": [
       "Text(0.5, 0, 'Age')"
      ]
     },
     "execution_count": 70,
     "metadata": {},
     "output_type": "execute_result"
    },
    {
     "data": {
      "image/png": "[encoded data removed]",
      "text/plain": [
       "<Figure size 432x288 with 1 Axes>"
      ]
     },
     "metadata": {
      "needs_background": "light"
     },
     "output_type": "display_data"
    }
   ],
   "source": [
    "plt.figure\n",
    "plt.scatter(Y_train_agefill['Age'],100*Y_train_agefill['error_relative'])\n",
    "plt.ylim(-100,100)\n",
    "plt.title('Distribution of relative error vs age ')\n",
    "plt.ylabel('Relative error %')\n",
    "plt.xlabel('Age')"
   ]
  }
 ],
 "metadata": {
  "kernelspec": {
   "display_name": "Python 3",
   "language": "python",
   "name": "python3"
  },
  "language_info": {
   "codemirror_mode": {
    "name": "ipython",
    "version": 3
   },
   "file_extension": ".py",
   "mimetype": "text/x-python",
   "name": "python",
   "nbconvert_exporter": "python",
   "pygments_lexer": "ipython3",
   "version": "3.6.7"
  }
 },
 "nbformat": 4,
 "nbformat_minor": 2
}
